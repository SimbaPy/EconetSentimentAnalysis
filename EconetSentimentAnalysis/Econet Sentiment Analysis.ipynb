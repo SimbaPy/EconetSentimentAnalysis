{
 "cells": [
  {
   "cell_type": "markdown",
   "metadata": {},
   "source": [
    "# Econet Customer Service Sentiment Analysis"
   ]
  },
  {
   "cell_type": "markdown",
   "metadata": {},
   "source": [
    "The market share as reported in the Potraz sector report for the first quarter of 2018 states that Econet commands a market share of 65%, compared to Netone's 23% and Telecel's 12%. From those stats alone, one can deduce that Econet has a lion share in the mobile market. Because of this market dominance, and Econet's own innovativeness, Econet has been able to offer parallel services which are either influenced by the success of Econet as a brand or operate parallel to it (feeding off it). These services include, but are not limited to, EcoCash, Steward Bank, YoMix, etc. All these services are in addition to expected traditional services of a MNO such as voice calls, texts and data.\n",
    "\n",
    "With all these services, it is expected that customer service issues may arise. Lately, subscribers of Econet's services multiple services have taken to social media (Twitter and Facebook) to criticise the MNO of poor delivery in that regard. The popular accusation seems to be that Econet has its hands in way too many baskets, which leads it to fail to perfect any particular service.\n",
    "\n",
    "The goal of this project is to investigate the complaints levied against Econet and its umbrella of services.\n",
    "\n",
    "The project will analyse data scraped from both twitter and facebook, the 2 platforms on which Zimbabweans interact with Econet Support the most.\n",
    "\n",
    "Some important points to note before the analysis is the bias of the data. Since the analysis is to check the sentiment of the customers, one can argue that the only reason why a customer would interact with customer support to begin with would be to seek help with a grievance, hence, every tweet/post would contain negative sentiment to a degree. To counter this point, the project scope is going to be primarily on the behavior of negative/positive sentiment frequency over time. More variables will be considered, such as the change in market share overtime. One might argue that more customers will generally result in more complaints per customer. All this, and more, will be taken into account."
   ]
  },
  {
   "cell_type": "markdown",
   "metadata": {},
   "source": [
    "## Primary Objective:\n",
    " - A time series analysis of how the frequency of complaints on service has changed over the last 9 years.\n",
    "\n",
    "## Other Objectives:\n",
    " - Which month does Econet experience the most complaints?\n",
    " - Which type of complaint is most prevalent? How do these complaint categories change over time?\n",
    " - How often do customers complain that their enquiries are being ignored?\n",
    " - Which Econet SBU experiences the most customer complaints?\n",
    " - Is there a certain cluster/segment of Econet's customers that experience poor service the most?\n",
    " - Has there been a change in the percentage of complaints that Econet gets as its market share has changed over the years?\n",
    " - How does Econet's customer service compare to it's competitors?"
   ]
  },
  {
   "cell_type": "markdown",
   "metadata": {},
   "source": [
    "As stated before, the primary data will be scraped from twitter and facebook. Other supporting data will be sourced from different documents such as Potraz annual/quarterly reports, Econet annual reports, Competitor annual reports, etc."
   ]
  },
  {
   "cell_type": "markdown",
   "metadata": {},
   "source": [
    "## Tools to be used"
   ]
  },
  {
   "cell_type": "markdown",
   "metadata": {},
   "source": [
    "The primary tool to be used is going to be the python programming language. Other tools such as sql (database storage) and tableau (visualisations) may also be used."
   ]
  },
  {
   "cell_type": "markdown",
   "metadata": {},
   "source": [
    "## Scraping the Data (Twitter)"
   ]
  },
  {
   "cell_type": "code",
   "execution_count": 32,
   "metadata": {},
   "outputs": [],
   "source": [
    "!python scraper_2.py"
   ]
  },
  {
   "cell_type": "markdown",
   "metadata": {},
   "source": [
    "Running the script above will scrap twitter for results that include the search terms \"econet, netone, telecel or stewardbank\", then order them in a table with the columns 'created_at', 'likes', 'replies', 'text', 'tweet_id', 'user_id', 'user_name' and 'user_screen_name'. The table is stored as a csv. For analysis, we read the csv and load it as a dataframe, as shown below."
   ]
  },
  {
   "cell_type": "code",
   "execution_count": 2,
   "metadata": {},
   "outputs": [],
   "source": [
    "import pandas as pd"
   ]
  },
  {
   "cell_type": "code",
   "execution_count": 3,
   "metadata": {},
   "outputs": [],
   "source": [
    "data = pd.read_csv('/home/simbarashe/Desktop/EconetSentimentAnalysis/data.csv', index_col=0)"
   ]
  },
  {
   "cell_type": "markdown",
   "metadata": {},
   "source": [
    "## Exploratory Data Analysis"
   ]
  },
  {
   "cell_type": "markdown",
   "metadata": {},
   "source": [
    "The data is now structured but we still need further insights of what it compromises of. This is also where we clean our data to make it ready for analysis."
   ]
  },
  {
   "cell_type": "markdown",
   "metadata": {},
   "source": [
    "Let's begin by taking a look at a snapshot of our data."
   ]
  },
  {
   "cell_type": "code",
   "execution_count": 4,
   "metadata": {},
   "outputs": [
    {
     "data": {
      "text/html": [
       "<div>\n",
       "<style scoped>\n",
       "    .dataframe tbody tr th:only-of-type {\n",
       "        vertical-align: middle;\n",
       "    }\n",
       "\n",
       "    .dataframe tbody tr th {\n",
       "        vertical-align: top;\n",
       "    }\n",
       "\n",
       "    .dataframe thead th {\n",
       "        text-align: right;\n",
       "    }\n",
       "</style>\n",
       "<table border=\"1\" class=\"dataframe\">\n",
       "  <thead>\n",
       "    <tr style=\"text-align: right;\">\n",
       "      <th></th>\n",
       "      <th>created_at</th>\n",
       "      <th>likes</th>\n",
       "      <th>replies</th>\n",
       "      <th>retweets</th>\n",
       "      <th>text</th>\n",
       "      <th>tweet_id</th>\n",
       "      <th>user_id</th>\n",
       "      <th>user_name</th>\n",
       "      <th>user_screen_name</th>\n",
       "    </tr>\n",
       "  </thead>\n",
       "  <tbody>\n",
       "    <tr>\n",
       "      <th>0</th>\n",
       "      <td>1.553464e+12</td>\n",
       "      <td>2</td>\n",
       "      <td>3</td>\n",
       "      <td>0</td>\n",
       "      <td>Hello @econet_support my yo mix app is not ope...</td>\n",
       "      <td>1109936193834270721</td>\n",
       "      <td>3015154174</td>\n",
       "      <td>Osybel Simango</td>\n",
       "      <td>OsybelSimango</td>\n",
       "    </tr>\n",
       "    <tr>\n",
       "      <th>1</th>\n",
       "      <td>1.553559e+12</td>\n",
       "      <td>55</td>\n",
       "      <td>1</td>\n",
       "      <td>4</td>\n",
       "      <td>Econet needs to stop sending me 4 SEPARATE pro...</td>\n",
       "      <td>1110332540865441793</td>\n",
       "      <td>202805948</td>\n",
       "      <td>Tino</td>\n",
       "      <td>TinoNyandoro</td>\n",
       "    </tr>\n",
       "    <tr>\n",
       "      <th>2</th>\n",
       "      <td>1.553615e+12</td>\n",
       "      <td>0</td>\n",
       "      <td>1</td>\n",
       "      <td>0</td>\n",
       "      <td>@econet_support I sent you my query and no res...</td>\n",
       "      <td>1110567033366892545</td>\n",
       "      <td>1653228750</td>\n",
       "      <td>Moses Chibike</td>\n",
       "      <td>moses_chibike</td>\n",
       "    </tr>\n",
       "    <tr>\n",
       "      <th>3</th>\n",
       "      <td>1.553615e+12</td>\n",
       "      <td>0</td>\n",
       "      <td>2</td>\n",
       "      <td>1</td>\n",
       "      <td>@econet_support I did ecocash transaction from...</td>\n",
       "      <td>1110567533566980096</td>\n",
       "      <td>1110468887991197696</td>\n",
       "      <td>Pretty Mundawaro</td>\n",
       "      <td>MundawaroPretty</td>\n",
       "    </tr>\n",
       "    <tr>\n",
       "      <th>4</th>\n",
       "      <td>1.553607e+12</td>\n",
       "      <td>0</td>\n",
       "      <td>1</td>\n",
       "      <td>0</td>\n",
       "      <td>@econet_support  hi guys i am trying to withdr...</td>\n",
       "      <td>1110535627811049472</td>\n",
       "      <td>797438395920175105</td>\n",
       "      <td>John Nyamutata</td>\n",
       "      <td>JohnNyamutata4</td>\n",
       "    </tr>\n",
       "  </tbody>\n",
       "</table>\n",
       "</div>"
      ],
      "text/plain": [
       "     created_at  likes  replies  retweets  \\\n",
       "0  1.553464e+12      2        3         0   \n",
       "1  1.553559e+12     55        1         4   \n",
       "2  1.553615e+12      0        1         0   \n",
       "3  1.553615e+12      0        2         1   \n",
       "4  1.553607e+12      0        1         0   \n",
       "\n",
       "                                                text             tweet_id  \\\n",
       "0  Hello @econet_support my yo mix app is not ope...  1109936193834270721   \n",
       "1  Econet needs to stop sending me 4 SEPARATE pro...  1110332540865441793   \n",
       "2  @econet_support I sent you my query and no res...  1110567033366892545   \n",
       "3  @econet_support I did ecocash transaction from...  1110567533566980096   \n",
       "4  @econet_support  hi guys i am trying to withdr...  1110535627811049472   \n",
       "\n",
       "               user_id         user_name user_screen_name  \n",
       "0           3015154174    Osybel Simango    OsybelSimango  \n",
       "1            202805948              Tino     TinoNyandoro  \n",
       "2           1653228750     Moses Chibike    moses_chibike  \n",
       "3  1110468887991197696  Pretty Mundawaro  MundawaroPretty  \n",
       "4   797438395920175105    John Nyamutata   JohnNyamutata4  "
      ]
     },
     "execution_count": 4,
     "metadata": {},
     "output_type": "execute_result"
    }
   ],
   "source": [
    "data.head()"
   ]
  },
  {
   "cell_type": "markdown",
   "metadata": {},
   "source": [
    "We can see that the columns we require are all there. However, the 'created_at' column, which can also be called the 'date_of_tweet' column, has the date in a format which isn't human readable. Let's change that."
   ]
  },
  {
   "cell_type": "code",
   "execution_count": 5,
   "metadata": {},
   "outputs": [],
   "source": [
    "from datetime import datetime\n",
    "\n",
    "\n",
    "data['created_at'] = data['created_at'].apply(lambda x: datetime.utcfromtimestamp(x/1000).strftime('%Y-%m-%d %H:%M:%S'))"
   ]
  },
  {
   "cell_type": "code",
   "execution_count": 6,
   "metadata": {},
   "outputs": [
    {
     "data": {
      "text/html": [
       "<div>\n",
       "<style scoped>\n",
       "    .dataframe tbody tr th:only-of-type {\n",
       "        vertical-align: middle;\n",
       "    }\n",
       "\n",
       "    .dataframe tbody tr th {\n",
       "        vertical-align: top;\n",
       "    }\n",
       "\n",
       "    .dataframe thead th {\n",
       "        text-align: right;\n",
       "    }\n",
       "</style>\n",
       "<table border=\"1\" class=\"dataframe\">\n",
       "  <thead>\n",
       "    <tr style=\"text-align: right;\">\n",
       "      <th></th>\n",
       "      <th>created_at</th>\n",
       "      <th>likes</th>\n",
       "      <th>replies</th>\n",
       "      <th>retweets</th>\n",
       "      <th>text</th>\n",
       "      <th>tweet_id</th>\n",
       "      <th>user_id</th>\n",
       "      <th>user_name</th>\n",
       "      <th>user_screen_name</th>\n",
       "    </tr>\n",
       "  </thead>\n",
       "  <tbody>\n",
       "    <tr>\n",
       "      <th>0</th>\n",
       "      <td>2019-03-24 21:53:04</td>\n",
       "      <td>2</td>\n",
       "      <td>3</td>\n",
       "      <td>0</td>\n",
       "      <td>Hello @econet_support my yo mix app is not ope...</td>\n",
       "      <td>1109936193834270721</td>\n",
       "      <td>3015154174</td>\n",
       "      <td>Osybel Simango</td>\n",
       "      <td>OsybelSimango</td>\n",
       "    </tr>\n",
       "    <tr>\n",
       "      <th>1</th>\n",
       "      <td>2019-03-26 00:08:01</td>\n",
       "      <td>55</td>\n",
       "      <td>1</td>\n",
       "      <td>4</td>\n",
       "      <td>Econet needs to stop sending me 4 SEPARATE pro...</td>\n",
       "      <td>1110332540865441793</td>\n",
       "      <td>202805948</td>\n",
       "      <td>Tino</td>\n",
       "      <td>TinoNyandoro</td>\n",
       "    </tr>\n",
       "    <tr>\n",
       "      <th>2</th>\n",
       "      <td>2019-03-26 15:39:48</td>\n",
       "      <td>0</td>\n",
       "      <td>1</td>\n",
       "      <td>0</td>\n",
       "      <td>@econet_support I sent you my query and no res...</td>\n",
       "      <td>1110567033366892545</td>\n",
       "      <td>1653228750</td>\n",
       "      <td>Moses Chibike</td>\n",
       "      <td>moses_chibike</td>\n",
       "    </tr>\n",
       "    <tr>\n",
       "      <th>3</th>\n",
       "      <td>2019-03-26 15:41:48</td>\n",
       "      <td>0</td>\n",
       "      <td>2</td>\n",
       "      <td>1</td>\n",
       "      <td>@econet_support I did ecocash transaction from...</td>\n",
       "      <td>1110567533566980096</td>\n",
       "      <td>1110468887991197696</td>\n",
       "      <td>Pretty Mundawaro</td>\n",
       "      <td>MundawaroPretty</td>\n",
       "    </tr>\n",
       "    <tr>\n",
       "      <th>4</th>\n",
       "      <td>2019-03-26 13:35:01</td>\n",
       "      <td>0</td>\n",
       "      <td>1</td>\n",
       "      <td>0</td>\n",
       "      <td>@econet_support  hi guys i am trying to withdr...</td>\n",
       "      <td>1110535627811049472</td>\n",
       "      <td>797438395920175105</td>\n",
       "      <td>John Nyamutata</td>\n",
       "      <td>JohnNyamutata4</td>\n",
       "    </tr>\n",
       "  </tbody>\n",
       "</table>\n",
       "</div>"
      ],
      "text/plain": [
       "            created_at  likes  replies  retweets  \\\n",
       "0  2019-03-24 21:53:04      2        3         0   \n",
       "1  2019-03-26 00:08:01     55        1         4   \n",
       "2  2019-03-26 15:39:48      0        1         0   \n",
       "3  2019-03-26 15:41:48      0        2         1   \n",
       "4  2019-03-26 13:35:01      0        1         0   \n",
       "\n",
       "                                                text             tweet_id  \\\n",
       "0  Hello @econet_support my yo mix app is not ope...  1109936193834270721   \n",
       "1  Econet needs to stop sending me 4 SEPARATE pro...  1110332540865441793   \n",
       "2  @econet_support I sent you my query and no res...  1110567033366892545   \n",
       "3  @econet_support I did ecocash transaction from...  1110567533566980096   \n",
       "4  @econet_support  hi guys i am trying to withdr...  1110535627811049472   \n",
       "\n",
       "               user_id         user_name user_screen_name  \n",
       "0           3015154174    Osybel Simango    OsybelSimango  \n",
       "1            202805948              Tino     TinoNyandoro  \n",
       "2           1653228750     Moses Chibike    moses_chibike  \n",
       "3  1110468887991197696  Pretty Mundawaro  MundawaroPretty  \n",
       "4   797438395920175105    John Nyamutata   JohnNyamutata4  "
      ]
     },
     "execution_count": 6,
     "metadata": {},
     "output_type": "execute_result"
    }
   ],
   "source": [
    "data.head()"
   ]
  },
  {
   "cell_type": "markdown",
   "metadata": {},
   "source": [
    "The date is now in a more readable format."
   ]
  },
  {
   "cell_type": "markdown",
   "metadata": {},
   "source": [
    "Next, let's explore the size and/or shape of our dataframe."
   ]
  },
  {
   "cell_type": "code",
   "execution_count": 7,
   "metadata": {},
   "outputs": [
    {
     "name": "stdout",
     "output_type": "stream",
     "text": [
      "4553 rows, 9 columns\n"
     ]
    }
   ],
   "source": [
    "print('{} rows, {} columns'.format(data.shape[0], data.shape[1]))"
   ]
  },
  {
   "cell_type": "code",
   "execution_count": 8,
   "metadata": {},
   "outputs": [
    {
     "data": {
      "text/plain": [
       "created_at          object\n",
       "likes                int64\n",
       "replies              int64\n",
       "retweets             int64\n",
       "text                object\n",
       "tweet_id             int64\n",
       "user_id              int64\n",
       "user_name           object\n",
       "user_screen_name    object\n",
       "dtype: object"
      ]
     },
     "execution_count": 8,
     "metadata": {},
     "output_type": "execute_result"
    }
   ],
   "source": [
    "data.dtypes"
   ]
  },
  {
   "cell_type": "code",
   "execution_count": 9,
   "metadata": {},
   "outputs": [
    {
     "data": {
      "text/html": [
       "<div>\n",
       "<style scoped>\n",
       "    .dataframe tbody tr th:only-of-type {\n",
       "        vertical-align: middle;\n",
       "    }\n",
       "\n",
       "    .dataframe tbody tr th {\n",
       "        vertical-align: top;\n",
       "    }\n",
       "\n",
       "    .dataframe thead th {\n",
       "        text-align: right;\n",
       "    }\n",
       "</style>\n",
       "<table border=\"1\" class=\"dataframe\">\n",
       "  <thead>\n",
       "    <tr style=\"text-align: right;\">\n",
       "      <th></th>\n",
       "      <th>created_at</th>\n",
       "      <th>likes</th>\n",
       "      <th>replies</th>\n",
       "      <th>retweets</th>\n",
       "      <th>text</th>\n",
       "      <th>tweet_id</th>\n",
       "      <th>user_id</th>\n",
       "      <th>user_name</th>\n",
       "      <th>user_screen_name</th>\n",
       "    </tr>\n",
       "  </thead>\n",
       "  <tbody>\n",
       "    <tr>\n",
       "      <th>count</th>\n",
       "      <td>4553</td>\n",
       "      <td>4553.000000</td>\n",
       "      <td>4553.000000</td>\n",
       "      <td>4553.000000</td>\n",
       "      <td>4553</td>\n",
       "      <td>4.553000e+03</td>\n",
       "      <td>4.553000e+03</td>\n",
       "      <td>4553</td>\n",
       "      <td>4553</td>\n",
       "    </tr>\n",
       "    <tr>\n",
       "      <th>unique</th>\n",
       "      <td>4552</td>\n",
       "      <td>NaN</td>\n",
       "      <td>NaN</td>\n",
       "      <td>NaN</td>\n",
       "      <td>4543</td>\n",
       "      <td>NaN</td>\n",
       "      <td>NaN</td>\n",
       "      <td>1979</td>\n",
       "      <td>1983</td>\n",
       "    </tr>\n",
       "    <tr>\n",
       "      <th>top</th>\n",
       "      <td>2019-03-17 12:31:26</td>\n",
       "      <td>NaN</td>\n",
       "      <td>NaN</td>\n",
       "      <td>NaN</td>\n",
       "      <td>#FF *Hertha4ever*  @Mowol @HerthaBerlinUK @zei...</td>\n",
       "      <td>NaN</td>\n",
       "      <td>NaN</td>\n",
       "      <td>Econet Wireless</td>\n",
       "      <td>econetzimbabwe</td>\n",
       "    </tr>\n",
       "    <tr>\n",
       "      <th>freq</th>\n",
       "      <td>2</td>\n",
       "      <td>NaN</td>\n",
       "      <td>NaN</td>\n",
       "      <td>NaN</td>\n",
       "      <td>4</td>\n",
       "      <td>NaN</td>\n",
       "      <td>NaN</td>\n",
       "      <td>177</td>\n",
       "      <td>177</td>\n",
       "    </tr>\n",
       "    <tr>\n",
       "      <th>mean</th>\n",
       "      <td>NaN</td>\n",
       "      <td>30.449813</td>\n",
       "      <td>4.298704</td>\n",
       "      <td>18.610147</td>\n",
       "      <td>NaN</td>\n",
       "      <td>8.044618e+17</td>\n",
       "      <td>1.438988e+17</td>\n",
       "      <td>NaN</td>\n",
       "      <td>NaN</td>\n",
       "    </tr>\n",
       "    <tr>\n",
       "      <th>std</th>\n",
       "      <td>NaN</td>\n",
       "      <td>110.338215</td>\n",
       "      <td>15.886818</td>\n",
       "      <td>201.262565</td>\n",
       "      <td>NaN</td>\n",
       "      <td>2.775495e+17</td>\n",
       "      <td>3.315195e+17</td>\n",
       "      <td>NaN</td>\n",
       "      <td>NaN</td>\n",
       "    </tr>\n",
       "    <tr>\n",
       "      <th>min</th>\n",
       "      <td>NaN</td>\n",
       "      <td>0.000000</td>\n",
       "      <td>0.000000</td>\n",
       "      <td>0.000000</td>\n",
       "      <td>NaN</td>\n",
       "      <td>1.645406e+17</td>\n",
       "      <td>6.542030e+05</td>\n",
       "      <td>NaN</td>\n",
       "      <td>NaN</td>\n",
       "    </tr>\n",
       "    <tr>\n",
       "      <th>25%</th>\n",
       "      <td>NaN</td>\n",
       "      <td>2.000000</td>\n",
       "      <td>0.000000</td>\n",
       "      <td>2.000000</td>\n",
       "      <td>NaN</td>\n",
       "      <td>5.663900e+17</td>\n",
       "      <td>2.171913e+08</td>\n",
       "      <td>NaN</td>\n",
       "      <td>NaN</td>\n",
       "    </tr>\n",
       "    <tr>\n",
       "      <th>50%</th>\n",
       "      <td>NaN</td>\n",
       "      <td>7.000000</td>\n",
       "      <td>1.000000</td>\n",
       "      <td>4.000000</td>\n",
       "      <td>NaN</td>\n",
       "      <td>8.977475e+17</td>\n",
       "      <td>5.698809e+08</td>\n",
       "      <td>NaN</td>\n",
       "      <td>NaN</td>\n",
       "    </tr>\n",
       "    <tr>\n",
       "      <th>75%</th>\n",
       "      <td>NaN</td>\n",
       "      <td>25.000000</td>\n",
       "      <td>3.000000</td>\n",
       "      <td>11.000000</td>\n",
       "      <td>NaN</td>\n",
       "      <td>1.057531e+18</td>\n",
       "      <td>2.545300e+09</td>\n",
       "      <td>NaN</td>\n",
       "      <td>NaN</td>\n",
       "    </tr>\n",
       "    <tr>\n",
       "      <th>max</th>\n",
       "      <td>NaN</td>\n",
       "      <td>5444.000000</td>\n",
       "      <td>515.000000</td>\n",
       "      <td>9619.000000</td>\n",
       "      <td>NaN</td>\n",
       "      <td>1.110589e+18</td>\n",
       "      <td>1.110469e+18</td>\n",
       "      <td>NaN</td>\n",
       "      <td>NaN</td>\n",
       "    </tr>\n",
       "  </tbody>\n",
       "</table>\n",
       "</div>"
      ],
      "text/plain": [
       "                 created_at        likes      replies     retweets  \\\n",
       "count                  4553  4553.000000  4553.000000  4553.000000   \n",
       "unique                 4552          NaN          NaN          NaN   \n",
       "top     2019-03-17 12:31:26          NaN          NaN          NaN   \n",
       "freq                      2          NaN          NaN          NaN   \n",
       "mean                    NaN    30.449813     4.298704    18.610147   \n",
       "std                     NaN   110.338215    15.886818   201.262565   \n",
       "min                     NaN     0.000000     0.000000     0.000000   \n",
       "25%                     NaN     2.000000     0.000000     2.000000   \n",
       "50%                     NaN     7.000000     1.000000     4.000000   \n",
       "75%                     NaN    25.000000     3.000000    11.000000   \n",
       "max                     NaN  5444.000000   515.000000  9619.000000   \n",
       "\n",
       "                                                     text      tweet_id  \\\n",
       "count                                                4553  4.553000e+03   \n",
       "unique                                               4543           NaN   \n",
       "top     #FF *Hertha4ever*  @Mowol @HerthaBerlinUK @zei...           NaN   \n",
       "freq                                                    4           NaN   \n",
       "mean                                                  NaN  8.044618e+17   \n",
       "std                                                   NaN  2.775495e+17   \n",
       "min                                                   NaN  1.645406e+17   \n",
       "25%                                                   NaN  5.663900e+17   \n",
       "50%                                                   NaN  8.977475e+17   \n",
       "75%                                                   NaN  1.057531e+18   \n",
       "max                                                   NaN  1.110589e+18   \n",
       "\n",
       "             user_id        user_name user_screen_name  \n",
       "count   4.553000e+03             4553             4553  \n",
       "unique           NaN             1979             1983  \n",
       "top              NaN  Econet Wireless   econetzimbabwe  \n",
       "freq             NaN              177              177  \n",
       "mean    1.438988e+17              NaN              NaN  \n",
       "std     3.315195e+17              NaN              NaN  \n",
       "min     6.542030e+05              NaN              NaN  \n",
       "25%     2.171913e+08              NaN              NaN  \n",
       "50%     5.698809e+08              NaN              NaN  \n",
       "75%     2.545300e+09              NaN              NaN  \n",
       "max     1.110469e+18              NaN              NaN  "
      ]
     },
     "execution_count": 9,
     "metadata": {},
     "output_type": "execute_result"
    }
   ],
   "source": [
    "data.describe(include='all')"
   ]
  },
  {
   "cell_type": "markdown",
   "metadata": {},
   "source": [
    "Our data set has 4,553 rows and 9 columns. After running some descriptive statistics on this data, we can see that no column contains null values as each column has a count of 4,553."
   ]
  },
  {
   "cell_type": "markdown",
   "metadata": {},
   "source": [
    "There are features on our data that aren't all that useful to our objective in this project, so it won't hurt to drop them. These are 'tweet_id', 'user_id' and 'user_screen_name'."
   ]
  },
  {
   "cell_type": "code",
   "execution_count": 10,
   "metadata": {},
   "outputs": [],
   "source": [
    "data.drop(columns=['tweet_id', 'user_id', 'user_name'], inplace=True)"
   ]
  },
  {
   "cell_type": "code",
   "execution_count": 11,
   "metadata": {},
   "outputs": [
    {
     "data": {
      "text/html": [
       "<div>\n",
       "<style scoped>\n",
       "    .dataframe tbody tr th:only-of-type {\n",
       "        vertical-align: middle;\n",
       "    }\n",
       "\n",
       "    .dataframe tbody tr th {\n",
       "        vertical-align: top;\n",
       "    }\n",
       "\n",
       "    .dataframe thead th {\n",
       "        text-align: right;\n",
       "    }\n",
       "</style>\n",
       "<table border=\"1\" class=\"dataframe\">\n",
       "  <thead>\n",
       "    <tr style=\"text-align: right;\">\n",
       "      <th></th>\n",
       "      <th>created_at</th>\n",
       "      <th>likes</th>\n",
       "      <th>replies</th>\n",
       "      <th>retweets</th>\n",
       "      <th>text</th>\n",
       "      <th>user_screen_name</th>\n",
       "    </tr>\n",
       "  </thead>\n",
       "  <tbody>\n",
       "    <tr>\n",
       "      <th>0</th>\n",
       "      <td>2019-03-24 21:53:04</td>\n",
       "      <td>2</td>\n",
       "      <td>3</td>\n",
       "      <td>0</td>\n",
       "      <td>Hello @econet_support my yo mix app is not ope...</td>\n",
       "      <td>OsybelSimango</td>\n",
       "    </tr>\n",
       "    <tr>\n",
       "      <th>1</th>\n",
       "      <td>2019-03-26 00:08:01</td>\n",
       "      <td>55</td>\n",
       "      <td>1</td>\n",
       "      <td>4</td>\n",
       "      <td>Econet needs to stop sending me 4 SEPARATE pro...</td>\n",
       "      <td>TinoNyandoro</td>\n",
       "    </tr>\n",
       "    <tr>\n",
       "      <th>2</th>\n",
       "      <td>2019-03-26 15:39:48</td>\n",
       "      <td>0</td>\n",
       "      <td>1</td>\n",
       "      <td>0</td>\n",
       "      <td>@econet_support I sent you my query and no res...</td>\n",
       "      <td>moses_chibike</td>\n",
       "    </tr>\n",
       "  </tbody>\n",
       "</table>\n",
       "</div>"
      ],
      "text/plain": [
       "            created_at  likes  replies  retweets  \\\n",
       "0  2019-03-24 21:53:04      2        3         0   \n",
       "1  2019-03-26 00:08:01     55        1         4   \n",
       "2  2019-03-26 15:39:48      0        1         0   \n",
       "\n",
       "                                                text user_screen_name  \n",
       "0  Hello @econet_support my yo mix app is not ope...    OsybelSimango  \n",
       "1  Econet needs to stop sending me 4 SEPARATE pro...     TinoNyandoro  \n",
       "2  @econet_support I sent you my query and no res...    moses_chibike  "
      ]
     },
     "execution_count": 11,
     "metadata": {},
     "output_type": "execute_result"
    }
   ],
   "source": [
    "data.head(3)"
   ]
  },
  {
   "cell_type": "markdown",
   "metadata": {},
   "source": [
    "### Further Cleaning"
   ]
  },
  {
   "cell_type": "markdown",
   "metadata": {},
   "source": [
    "The goal of our project is to come up with an aggregation of customer complaint count. Therefore, if our twitter search returned tweets by accounts belonging to Econet, NetOne, Telecel or StewardBank, we need to exclude them."
   ]
  },
  {
   "cell_type": "code",
   "execution_count": 12,
   "metadata": {},
   "outputs": [
    {
     "name": "stdout",
     "output_type": "stream",
     "text": [
      "372\n"
     ]
    },
    {
     "data": {
      "text/html": [
       "<div>\n",
       "<style scoped>\n",
       "    .dataframe tbody tr th:only-of-type {\n",
       "        vertical-align: middle;\n",
       "    }\n",
       "\n",
       "    .dataframe tbody tr th {\n",
       "        vertical-align: top;\n",
       "    }\n",
       "\n",
       "    .dataframe thead th {\n",
       "        text-align: right;\n",
       "    }\n",
       "</style>\n",
       "<table border=\"1\" class=\"dataframe\">\n",
       "  <thead>\n",
       "    <tr style=\"text-align: right;\">\n",
       "      <th></th>\n",
       "      <th>created_at</th>\n",
       "      <th>likes</th>\n",
       "      <th>replies</th>\n",
       "      <th>retweets</th>\n",
       "      <th>text</th>\n",
       "      <th>user_screen_name</th>\n",
       "    </tr>\n",
       "  </thead>\n",
       "  <tbody>\n",
       "    <tr>\n",
       "      <th>27</th>\n",
       "      <td>2019-03-26 17:06:09</td>\n",
       "      <td>0</td>\n",
       "      <td>0</td>\n",
       "      <td>0</td>\n",
       "      <td>Watch this space for more updates! ^WS</td>\n",
       "      <td>econet_support</td>\n",
       "    </tr>\n",
       "    <tr>\n",
       "      <th>35</th>\n",
       "      <td>2019-03-25 17:20:06</td>\n",
       "      <td>8</td>\n",
       "      <td>5</td>\n",
       "      <td>4</td>\n",
       "      <td>Enjoy affordable data rates that are valid for...</td>\n",
       "      <td>Telecel_Zim</td>\n",
       "    </tr>\n",
       "    <tr>\n",
       "      <th>37</th>\n",
       "      <td>2019-03-26 17:04:16</td>\n",
       "      <td>0</td>\n",
       "      <td>1</td>\n",
       "      <td>0</td>\n",
       "      <td>Resend via DM the details! ^WS</td>\n",
       "      <td>econet_support</td>\n",
       "    </tr>\n",
       "  </tbody>\n",
       "</table>\n",
       "</div>"
      ],
      "text/plain": [
       "             created_at  likes  replies  retweets  \\\n",
       "27  2019-03-26 17:06:09      0        0         0   \n",
       "35  2019-03-25 17:20:06      8        5         4   \n",
       "37  2019-03-26 17:04:16      0        1         0   \n",
       "\n",
       "                                                 text user_screen_name  \n",
       "27             Watch this space for more updates! ^WS   econet_support  \n",
       "35  Enjoy affordable data rates that are valid for...      Telecel_Zim  \n",
       "37                     Resend via DM the details! ^WS   econet_support  "
      ]
     },
     "execution_count": 12,
     "metadata": {},
     "output_type": "execute_result"
    }
   ],
   "source": [
    "exclude_rows = data[(data['user_screen_name']=='econet_support') | (data['user_screen_name']=='econetzimbabwe') | (data['user_screen_name']=='EcoCashZW') | (data['user_screen_name']=='stewardbank') | (data['user_screen_name']=='NetOneCellular') | (data['user_screen_name']=='Netonesupport') | (data['user_screen_name']=='Telecel_Zim')]\n",
    "print(exclude_rows.shape[0])\n",
    "exclude_rows.head(3)"
   ]
  },
  {
   "cell_type": "markdown",
   "metadata": {},
   "source": [
    "The data shows that these results do exist and it has 372 rows. Upon scrutiny of the text column, we can see that it has nothing to do with enquiries which originated from a customer. Let's proceed to delete them."
   ]
  },
  {
   "cell_type": "code",
   "execution_count": 13,
   "metadata": {},
   "outputs": [],
   "source": [
    "exclude_list = list(exclude_rows.index.values)\n",
    "data.drop(exclude_list, inplace=True)"
   ]
  },
  {
   "cell_type": "code",
   "execution_count": 14,
   "metadata": {},
   "outputs": [
    {
     "data": {
      "text/plain": [
       "4181"
      ]
     },
     "execution_count": 14,
     "metadata": {},
     "output_type": "execute_result"
    }
   ],
   "source": [
    "data.shape[0]"
   ]
  },
  {
   "cell_type": "markdown",
   "metadata": {},
   "source": [
    "Our dataframe now has 4,181 rows remaining, down from the original 4553. Our 372 rows have now been dropped."
   ]
  },
  {
   "cell_type": "markdown",
   "metadata": {},
   "source": [
    "In Zimbabwe, Econet is a very big organization. As a result, it is often involved in philanthropy or disaster relief efforts. Examples are the recent 'Cyclone Idai' disaster. As a result, we should remove as many of these instances as we can."
   ]
  },
  {
   "cell_type": "markdown",
   "metadata": {},
   "source": [
    "Let's add a column which notes whether or not key words are found in a tweet."
   ]
  },
  {
   "cell_type": "code",
   "execution_count": 15,
   "metadata": {},
   "outputs": [],
   "source": [
    "import re"
   ]
  },
  {
   "cell_type": "code",
   "execution_count": 16,
   "metadata": {},
   "outputs": [],
   "source": [
    "def find_key_words(x):\n",
    "    r = re.compile(r'\\bcyclone\\b | \\bebola\\b | \\bidai\\b | \\bdonate\\b | \\bdonation\\b | \\bnatural disaster\\b | \\bcorporate social responsibility\\b | \\bdonations\\b  | \\bphilanthropy\\b| \\bcholera\\b | \\bscholarship\\b | \\bscholarships\\b', flags=re.I | re.X)\n",
    "    if r.findall(x):\n",
    "        return 1\n",
    "    else:\n",
    "        return 0"
   ]
  },
  {
   "cell_type": "code",
   "execution_count": 17,
   "metadata": {},
   "outputs": [],
   "source": [
    "data['key_word_cleaner'] = data['text'].apply(find_key_words)"
   ]
  },
  {
   "cell_type": "code",
   "execution_count": 18,
   "metadata": {},
   "outputs": [
    {
     "data": {
      "text/html": [
       "<div>\n",
       "<style scoped>\n",
       "    .dataframe tbody tr th:only-of-type {\n",
       "        vertical-align: middle;\n",
       "    }\n",
       "\n",
       "    .dataframe tbody tr th {\n",
       "        vertical-align: top;\n",
       "    }\n",
       "\n",
       "    .dataframe thead th {\n",
       "        text-align: right;\n",
       "    }\n",
       "</style>\n",
       "<table border=\"1\" class=\"dataframe\">\n",
       "  <thead>\n",
       "    <tr style=\"text-align: right;\">\n",
       "      <th></th>\n",
       "      <th>created_at</th>\n",
       "      <th>likes</th>\n",
       "      <th>replies</th>\n",
       "      <th>retweets</th>\n",
       "      <th>text</th>\n",
       "      <th>user_screen_name</th>\n",
       "      <th>key_word_cleaner</th>\n",
       "    </tr>\n",
       "  </thead>\n",
       "  <tbody>\n",
       "    <tr>\n",
       "      <th>0</th>\n",
       "      <td>2019-03-24 21:53:04</td>\n",
       "      <td>2</td>\n",
       "      <td>3</td>\n",
       "      <td>0</td>\n",
       "      <td>Hello @econet_support my yo mix app is not ope...</td>\n",
       "      <td>OsybelSimango</td>\n",
       "      <td>0</td>\n",
       "    </tr>\n",
       "    <tr>\n",
       "      <th>1</th>\n",
       "      <td>2019-03-26 00:08:01</td>\n",
       "      <td>55</td>\n",
       "      <td>1</td>\n",
       "      <td>4</td>\n",
       "      <td>Econet needs to stop sending me 4 SEPARATE pro...</td>\n",
       "      <td>TinoNyandoro</td>\n",
       "      <td>0</td>\n",
       "    </tr>\n",
       "    <tr>\n",
       "      <th>2</th>\n",
       "      <td>2019-03-26 15:39:48</td>\n",
       "      <td>0</td>\n",
       "      <td>1</td>\n",
       "      <td>0</td>\n",
       "      <td>@econet_support I sent you my query and no res...</td>\n",
       "      <td>moses_chibike</td>\n",
       "      <td>0</td>\n",
       "    </tr>\n",
       "    <tr>\n",
       "      <th>3</th>\n",
       "      <td>2019-03-26 15:41:48</td>\n",
       "      <td>0</td>\n",
       "      <td>2</td>\n",
       "      <td>1</td>\n",
       "      <td>@econet_support I did ecocash transaction from...</td>\n",
       "      <td>MundawaroPretty</td>\n",
       "      <td>0</td>\n",
       "    </tr>\n",
       "    <tr>\n",
       "      <th>4</th>\n",
       "      <td>2019-03-26 13:35:01</td>\n",
       "      <td>0</td>\n",
       "      <td>1</td>\n",
       "      <td>0</td>\n",
       "      <td>@econet_support  hi guys i am trying to withdr...</td>\n",
       "      <td>JohnNyamutata4</td>\n",
       "      <td>0</td>\n",
       "    </tr>\n",
       "  </tbody>\n",
       "</table>\n",
       "</div>"
      ],
      "text/plain": [
       "            created_at  likes  replies  retweets  \\\n",
       "0  2019-03-24 21:53:04      2        3         0   \n",
       "1  2019-03-26 00:08:01     55        1         4   \n",
       "2  2019-03-26 15:39:48      0        1         0   \n",
       "3  2019-03-26 15:41:48      0        2         1   \n",
       "4  2019-03-26 13:35:01      0        1         0   \n",
       "\n",
       "                                                text user_screen_name  \\\n",
       "0  Hello @econet_support my yo mix app is not ope...    OsybelSimango   \n",
       "1  Econet needs to stop sending me 4 SEPARATE pro...     TinoNyandoro   \n",
       "2  @econet_support I sent you my query and no res...    moses_chibike   \n",
       "3  @econet_support I did ecocash transaction from...  MundawaroPretty   \n",
       "4  @econet_support  hi guys i am trying to withdr...   JohnNyamutata4   \n",
       "\n",
       "   key_word_cleaner  \n",
       "0                 0  \n",
       "1                 0  \n",
       "2                 0  \n",
       "3                 0  \n",
       "4                 0  "
      ]
     },
     "execution_count": 18,
     "metadata": {},
     "output_type": "execute_result"
    }
   ],
   "source": [
    "data.head()"
   ]
  },
  {
   "cell_type": "code",
   "execution_count": 19,
   "metadata": {},
   "outputs": [
    {
     "data": {
      "text/plain": [
       "83"
      ]
     },
     "execution_count": 19,
     "metadata": {},
     "output_type": "execute_result"
    }
   ],
   "source": [
    "data[data['key_word_cleaner']==1].shape[0]"
   ]
  },
  {
   "cell_type": "markdown",
   "metadata": {},
   "source": [
    "We can see that there are 83 rows which contain key words, and their variants, for donate cyclone idai, scholarship, philanthropy, etc. Let's go ahead and drop them."
   ]
  },
  {
   "cell_type": "code",
   "execution_count": 20,
   "metadata": {},
   "outputs": [],
   "source": [
    "data = data[data['key_word_cleaner']==0]"
   ]
  },
  {
   "cell_type": "code",
   "execution_count": 21,
   "metadata": {},
   "outputs": [
    {
     "data": {
      "text/plain": [
       "4098"
      ]
     },
     "execution_count": 21,
     "metadata": {},
     "output_type": "execute_result"
    }
   ],
   "source": [
    "data.shape[0]"
   ]
  },
  {
   "cell_type": "markdown",
   "metadata": {},
   "source": [
    "Our number of rows has dropped from 4,181 to 4,098. Therefore, the rows we do not want have been dropped."
   ]
  },
  {
   "cell_type": "markdown",
   "metadata": {},
   "source": [
    "To keep up with our data cleaning, so far we have removed:\n",
    " - tweets that were tweeted by accounts belonging to the company(s) we are investigating,\n",
    " - removed tweets which involve Econet, Telecel and Netone performing philanthropic acts."
   ]
  },
  {
   "cell_type": "markdown",
   "metadata": {},
   "source": [
    "The second point could've been achieved later on when we remove tweets which have a positive sentiment (after running an algorithm). However, after going thorugh some tweets, there are some philanthropic tweets which contain negative terms like 'sad' and 'bad' (describing cyclone idai, for example). These would've confused the sentiment analysis algorithm and possibly produced a false negative. The above method just adds to our thoroughness."
   ]
  },
  {
   "cell_type": "markdown",
   "metadata": {},
   "source": [
    "Let's perform our descriptive stats again and see if we can find any red flags."
   ]
  },
  {
   "cell_type": "code",
   "execution_count": 22,
   "metadata": {},
   "outputs": [
    {
     "data": {
      "text/html": [
       "<div>\n",
       "<style scoped>\n",
       "    .dataframe tbody tr th:only-of-type {\n",
       "        vertical-align: middle;\n",
       "    }\n",
       "\n",
       "    .dataframe tbody tr th {\n",
       "        vertical-align: top;\n",
       "    }\n",
       "\n",
       "    .dataframe thead th {\n",
       "        text-align: right;\n",
       "    }\n",
       "</style>\n",
       "<table border=\"1\" class=\"dataframe\">\n",
       "  <thead>\n",
       "    <tr style=\"text-align: right;\">\n",
       "      <th></th>\n",
       "      <th>created_at</th>\n",
       "      <th>likes</th>\n",
       "      <th>replies</th>\n",
       "      <th>retweets</th>\n",
       "      <th>text</th>\n",
       "      <th>user_screen_name</th>\n",
       "      <th>key_word_cleaner</th>\n",
       "    </tr>\n",
       "  </thead>\n",
       "  <tbody>\n",
       "    <tr>\n",
       "      <th>count</th>\n",
       "      <td>4098</td>\n",
       "      <td>4098.000000</td>\n",
       "      <td>4098.000000</td>\n",
       "      <td>4098.000000</td>\n",
       "      <td>4098</td>\n",
       "      <td>4098</td>\n",
       "      <td>4098.0</td>\n",
       "    </tr>\n",
       "    <tr>\n",
       "      <th>unique</th>\n",
       "      <td>4097</td>\n",
       "      <td>NaN</td>\n",
       "      <td>NaN</td>\n",
       "      <td>NaN</td>\n",
       "      <td>4088</td>\n",
       "      <td>1950</td>\n",
       "      <td>NaN</td>\n",
       "    </tr>\n",
       "    <tr>\n",
       "      <th>top</th>\n",
       "      <td>2019-03-17 12:31:26</td>\n",
       "      <td>NaN</td>\n",
       "      <td>NaN</td>\n",
       "      <td>NaN</td>\n",
       "      <td>#FF *Hertha4ever*  @Mowol @HerthaBerlinUK @zei...</td>\n",
       "      <td>263Chat</td>\n",
       "      <td>NaN</td>\n",
       "    </tr>\n",
       "    <tr>\n",
       "      <th>freq</th>\n",
       "      <td>2</td>\n",
       "      <td>NaN</td>\n",
       "      <td>NaN</td>\n",
       "      <td>NaN</td>\n",
       "      <td>4</td>\n",
       "      <td>108</td>\n",
       "      <td>NaN</td>\n",
       "    </tr>\n",
       "    <tr>\n",
       "      <th>mean</th>\n",
       "      <td>NaN</td>\n",
       "      <td>28.861396</td>\n",
       "      <td>3.657882</td>\n",
       "      <td>17.683504</td>\n",
       "      <td>NaN</td>\n",
       "      <td>NaN</td>\n",
       "      <td>0.0</td>\n",
       "    </tr>\n",
       "    <tr>\n",
       "      <th>std</th>\n",
       "      <td>NaN</td>\n",
       "      <td>111.975126</td>\n",
       "      <td>11.956029</td>\n",
       "      <td>211.421366</td>\n",
       "      <td>NaN</td>\n",
       "      <td>NaN</td>\n",
       "      <td>0.0</td>\n",
       "    </tr>\n",
       "    <tr>\n",
       "      <th>min</th>\n",
       "      <td>NaN</td>\n",
       "      <td>0.000000</td>\n",
       "      <td>0.000000</td>\n",
       "      <td>0.000000</td>\n",
       "      <td>NaN</td>\n",
       "      <td>NaN</td>\n",
       "      <td>0.0</td>\n",
       "    </tr>\n",
       "    <tr>\n",
       "      <th>25%</th>\n",
       "      <td>NaN</td>\n",
       "      <td>2.000000</td>\n",
       "      <td>0.000000</td>\n",
       "      <td>2.000000</td>\n",
       "      <td>NaN</td>\n",
       "      <td>NaN</td>\n",
       "      <td>0.0</td>\n",
       "    </tr>\n",
       "    <tr>\n",
       "      <th>50%</th>\n",
       "      <td>NaN</td>\n",
       "      <td>7.000000</td>\n",
       "      <td>1.000000</td>\n",
       "      <td>4.000000</td>\n",
       "      <td>NaN</td>\n",
       "      <td>NaN</td>\n",
       "      <td>0.0</td>\n",
       "    </tr>\n",
       "    <tr>\n",
       "      <th>75%</th>\n",
       "      <td>NaN</td>\n",
       "      <td>24.000000</td>\n",
       "      <td>2.000000</td>\n",
       "      <td>11.000000</td>\n",
       "      <td>NaN</td>\n",
       "      <td>NaN</td>\n",
       "      <td>0.0</td>\n",
       "    </tr>\n",
       "    <tr>\n",
       "      <th>max</th>\n",
       "      <td>NaN</td>\n",
       "      <td>5444.000000</td>\n",
       "      <td>311.000000</td>\n",
       "      <td>9619.000000</td>\n",
       "      <td>NaN</td>\n",
       "      <td>NaN</td>\n",
       "      <td>0.0</td>\n",
       "    </tr>\n",
       "  </tbody>\n",
       "</table>\n",
       "</div>"
      ],
      "text/plain": [
       "                 created_at        likes      replies     retweets  \\\n",
       "count                  4098  4098.000000  4098.000000  4098.000000   \n",
       "unique                 4097          NaN          NaN          NaN   \n",
       "top     2019-03-17 12:31:26          NaN          NaN          NaN   \n",
       "freq                      2          NaN          NaN          NaN   \n",
       "mean                    NaN    28.861396     3.657882    17.683504   \n",
       "std                     NaN   111.975126    11.956029   211.421366   \n",
       "min                     NaN     0.000000     0.000000     0.000000   \n",
       "25%                     NaN     2.000000     0.000000     2.000000   \n",
       "50%                     NaN     7.000000     1.000000     4.000000   \n",
       "75%                     NaN    24.000000     2.000000    11.000000   \n",
       "max                     NaN  5444.000000   311.000000  9619.000000   \n",
       "\n",
       "                                                     text user_screen_name  \\\n",
       "count                                                4098             4098   \n",
       "unique                                               4088             1950   \n",
       "top     #FF *Hertha4ever*  @Mowol @HerthaBerlinUK @zei...          263Chat   \n",
       "freq                                                    4              108   \n",
       "mean                                                  NaN              NaN   \n",
       "std                                                   NaN              NaN   \n",
       "min                                                   NaN              NaN   \n",
       "25%                                                   NaN              NaN   \n",
       "50%                                                   NaN              NaN   \n",
       "75%                                                   NaN              NaN   \n",
       "max                                                   NaN              NaN   \n",
       "\n",
       "        key_word_cleaner  \n",
       "count             4098.0  \n",
       "unique               NaN  \n",
       "top                  NaN  \n",
       "freq                 NaN  \n",
       "mean                 0.0  \n",
       "std                  0.0  \n",
       "min                  0.0  \n",
       "25%                  0.0  \n",
       "50%                  0.0  \n",
       "75%                  0.0  \n",
       "max                  0.0  "
      ]
     },
     "execution_count": 22,
     "metadata": {},
     "output_type": "execute_result"
    }
   ],
   "source": [
    "data.describe(include='all')"
   ]
  },
  {
   "cell_type": "markdown",
   "metadata": {},
   "source": [
    "Taking a look at the distribution of our tweets, we can see that the minimum number of likes and retweets is both 0. That's understandable and expected. However, the maximum numbers of likes and retweets are 5444 and 9619, respectively. It's very unlikely that a tweet regarding enquiry of service would've such high numbers. It is then probably an outlier.\n",
    "\n",
    "The IQR suggests that most of our tweets have likes ranging between 2 & 24 and retweets ranging between 2 & 11. This is much more believable. Let's investigate further, visually."
   ]
  },
  {
   "cell_type": "code",
   "execution_count": 23,
   "metadata": {},
   "outputs": [],
   "source": [
    "import matplotlib.pyplot as plt\n",
    "import seaborn as sns\n",
    "\n",
    "%matplotlib inline"
   ]
  },
  {
   "cell_type": "code",
   "execution_count": 24,
   "metadata": {},
   "outputs": [
    {
     "data": {
      "image/png": "[encoded data removed]",
      "text/plain": [
       "<Figure size 432x288 with 1 Axes>"
      ]
     },
     "metadata": {},
     "output_type": "display_data"
    }
   ],
   "source": [
    "sns.set(style=\"ticks\", palette=\"pastel\")\n",
    "\n",
    "sns.boxplot(data=data[['likes', 'retweets', 'replies']])\n",
    "\n",
    "sns.despine(offset=10, trim=True)"
   ]
  },
  {
   "cell_type": "markdown",
   "metadata": {},
   "source": [
    "The outliers are so large that the scale of our boxplots is compromised.\n",
    "\n",
    "Let's take a look at the data associated with these outliers. From the graph above, we can see that the begin at over 500 replies (safe bet that these tweets are also the ones with the large retweets)."
   ]
  },
  {
   "cell_type": "code",
   "execution_count": 25,
   "metadata": {},
   "outputs": [
    {
     "data": {
      "text/html": [
       "<div>\n",
       "<style scoped>\n",
       "    .dataframe tbody tr th:only-of-type {\n",
       "        vertical-align: middle;\n",
       "    }\n",
       "\n",
       "    .dataframe tbody tr th {\n",
       "        vertical-align: top;\n",
       "    }\n",
       "\n",
       "    .dataframe thead th {\n",
       "        text-align: right;\n",
       "    }\n",
       "</style>\n",
       "<table border=\"1\" class=\"dataframe\">\n",
       "  <thead>\n",
       "    <tr style=\"text-align: right;\">\n",
       "      <th></th>\n",
       "      <th>created_at</th>\n",
       "      <th>likes</th>\n",
       "      <th>replies</th>\n",
       "      <th>retweets</th>\n",
       "      <th>text</th>\n",
       "      <th>user_screen_name</th>\n",
       "      <th>key_word_cleaner</th>\n",
       "    </tr>\n",
       "  </thead>\n",
       "  <tbody>\n",
       "    <tr>\n",
       "      <th>867</th>\n",
       "      <td>2018-12-22 18:55:23</td>\n",
       "      <td>5444</td>\n",
       "      <td>13</td>\n",
       "      <td>9619</td>\n",
       "      <td>Being cheated silentlyhttps://twitter.com/abby...</td>\n",
       "      <td>missfatimasha_</td>\n",
       "      <td>0</td>\n",
       "    </tr>\n",
       "  </tbody>\n",
       "</table>\n",
       "</div>"
      ],
      "text/plain": [
       "              created_at  likes  replies  retweets  \\\n",
       "867  2018-12-22 18:55:23   5444       13      9619   \n",
       "\n",
       "                                                  text user_screen_name  \\\n",
       "867  Being cheated silentlyhttps://twitter.com/abby...   missfatimasha_   \n",
       "\n",
       "     key_word_cleaner  \n",
       "867                 0  "
      ]
     },
     "execution_count": 25,
     "metadata": {},
     "output_type": "execute_result"
    }
   ],
   "source": [
    "data[data['likes']>5000]"
   ]
  },
  {
   "cell_type": "markdown",
   "metadata": {},
   "source": [
    "Only one row is returned. Let us investigate the text and see what it contains. (Note that this is also the tweet responsoble for the retweets outlier)"
   ]
  },
  {
   "cell_type": "code",
   "execution_count": 26,
   "metadata": {},
   "outputs": [
    {
     "data": {
      "text/plain": [
       "867    Being cheated silentlyhttps://twitter.com/abby...\n",
       "Name: text, dtype: object"
      ]
     },
     "execution_count": 26,
     "metadata": {},
     "output_type": "execute_result"
    }
   ],
   "source": [
    "data[data['likes']>5000]['text']"
   ]
  },
  {
   "cell_type": "markdown",
   "metadata": {},
   "source": [
    "The tweet seems to contain a retweet which was not loaded fully. Let's delete it all the same as it does not provide any useful information for us."
   ]
  },
  {
   "cell_type": "code",
   "execution_count": 27,
   "metadata": {},
   "outputs": [],
   "source": [
    "data = data[data['likes']<5000]"
   ]
  },
  {
   "cell_type": "code",
   "execution_count": 28,
   "metadata": {},
   "outputs": [
    {
     "data": {
      "text/html": [
       "<div>\n",
       "<style scoped>\n",
       "    .dataframe tbody tr th:only-of-type {\n",
       "        vertical-align: middle;\n",
       "    }\n",
       "\n",
       "    .dataframe tbody tr th {\n",
       "        vertical-align: top;\n",
       "    }\n",
       "\n",
       "    .dataframe thead th {\n",
       "        text-align: right;\n",
       "    }\n",
       "</style>\n",
       "<table border=\"1\" class=\"dataframe\">\n",
       "  <thead>\n",
       "    <tr style=\"text-align: right;\">\n",
       "      <th></th>\n",
       "      <th>created_at</th>\n",
       "      <th>likes</th>\n",
       "      <th>replies</th>\n",
       "      <th>retweets</th>\n",
       "      <th>text</th>\n",
       "      <th>user_screen_name</th>\n",
       "      <th>key_word_cleaner</th>\n",
       "    </tr>\n",
       "  </thead>\n",
       "  <tbody>\n",
       "  </tbody>\n",
       "</table>\n",
       "</div>"
      ],
      "text/plain": [
       "Empty DataFrame\n",
       "Columns: [created_at, likes, replies, retweets, text, user_screen_name, key_word_cleaner]\n",
       "Index: []"
      ]
     },
     "execution_count": 28,
     "metadata": {},
     "output_type": "execute_result"
    }
   ],
   "source": [
    "data[data['likes']>5000]"
   ]
  },
  {
   "cell_type": "markdown",
   "metadata": {},
   "source": [
    "The tweet no longer exists in our dataframe. Let's plot our box plot again."
   ]
  },
  {
   "cell_type": "code",
   "execution_count": 29,
   "metadata": {},
   "outputs": [
    {
     "data": {
      "image/png": "[encoded data removed]",
      "text/plain": [
       "<Figure size 432x288 with 1 Axes>"
      ]
     },
     "metadata": {},
     "output_type": "display_data"
    }
   ],
   "source": [
    "sns.set(style=\"ticks\", palette=\"pastel\")\n",
    "\n",
    "sns.boxplot(data=data[['likes', 'retweets', 'replies']])\n",
    "\n",
    "sns.despine(offset=10, trim=True)"
   ]
  },
  {
   "cell_type": "markdown",
   "metadata": {},
   "source": [
    "One tweet with over 8000 retweets still exists. Let's also take a look at it."
   ]
  },
  {
   "cell_type": "code",
   "execution_count": 30,
   "metadata": {},
   "outputs": [
    {
     "data": {
      "text/html": [
       "<div>\n",
       "<style scoped>\n",
       "    .dataframe tbody tr th:only-of-type {\n",
       "        vertical-align: middle;\n",
       "    }\n",
       "\n",
       "    .dataframe tbody tr th {\n",
       "        vertical-align: top;\n",
       "    }\n",
       "\n",
       "    .dataframe thead th {\n",
       "        text-align: right;\n",
       "    }\n",
       "</style>\n",
       "<table border=\"1\" class=\"dataframe\">\n",
       "  <thead>\n",
       "    <tr style=\"text-align: right;\">\n",
       "      <th></th>\n",
       "      <th>created_at</th>\n",
       "      <th>likes</th>\n",
       "      <th>replies</th>\n",
       "      <th>retweets</th>\n",
       "      <th>text</th>\n",
       "      <th>user_screen_name</th>\n",
       "      <th>key_word_cleaner</th>\n",
       "    </tr>\n",
       "  </thead>\n",
       "  <tbody>\n",
       "    <tr>\n",
       "      <th>730</th>\n",
       "      <td>2019-01-18 15:25:42</td>\n",
       "      <td>539</td>\n",
       "      <td>2</td>\n",
       "      <td>9250</td>\n",
       "      <td>ไม่เคยมองว่าซากุระหน้าเหมือนชานยอล จนวันนี้จัด...</td>\n",
       "      <td>KpopSalub</td>\n",
       "      <td>0</td>\n",
       "    </tr>\n",
       "  </tbody>\n",
       "</table>\n",
       "</div>"
      ],
      "text/plain": [
       "              created_at  likes  replies  retweets  \\\n",
       "730  2019-01-18 15:25:42    539        2      9250   \n",
       "\n",
       "                                                  text user_screen_name  \\\n",
       "730  ไม่เคยมองว่าซากุระหน้าเหมือนชานยอล จนวันนี้จัด...        KpopSalub   \n",
       "\n",
       "     key_word_cleaner  \n",
       "730                 0  "
      ]
     },
     "execution_count": 30,
     "metadata": {},
     "output_type": "execute_result"
    }
   ],
   "source": [
    "data[data['retweets']>8000]"
   ]
  },
  {
   "cell_type": "markdown",
   "metadata": {},
   "source": [
    "The tweet is in a language which isn't spoken in Zimbabwe. It's also safe to drop it."
   ]
  },
  {
   "cell_type": "code",
   "execution_count": 31,
   "metadata": {},
   "outputs": [],
   "source": [
    "data = data[data['retweets']<8000]"
   ]
  },
  {
   "cell_type": "code",
   "execution_count": 32,
   "metadata": {},
   "outputs": [
    {
     "data": {
      "text/html": [
       "<div>\n",
       "<style scoped>\n",
       "    .dataframe tbody tr th:only-of-type {\n",
       "        vertical-align: middle;\n",
       "    }\n",
       "\n",
       "    .dataframe tbody tr th {\n",
       "        vertical-align: top;\n",
       "    }\n",
       "\n",
       "    .dataframe thead th {\n",
       "        text-align: right;\n",
       "    }\n",
       "</style>\n",
       "<table border=\"1\" class=\"dataframe\">\n",
       "  <thead>\n",
       "    <tr style=\"text-align: right;\">\n",
       "      <th></th>\n",
       "      <th>created_at</th>\n",
       "      <th>likes</th>\n",
       "      <th>replies</th>\n",
       "      <th>retweets</th>\n",
       "      <th>text</th>\n",
       "      <th>user_screen_name</th>\n",
       "      <th>key_word_cleaner</th>\n",
       "    </tr>\n",
       "  </thead>\n",
       "  <tbody>\n",
       "  </tbody>\n",
       "</table>\n",
       "</div>"
      ],
      "text/plain": [
       "Empty DataFrame\n",
       "Columns: [created_at, likes, replies, retweets, text, user_screen_name, key_word_cleaner]\n",
       "Index: []"
      ]
     },
     "execution_count": 32,
     "metadata": {},
     "output_type": "execute_result"
    }
   ],
   "source": [
    "data[data['retweets']>8000]"
   ]
  },
  {
   "cell_type": "markdown",
   "metadata": {},
   "source": [
    "The tweet has been deleted."
   ]
  },
  {
   "cell_type": "code",
   "execution_count": 33,
   "metadata": {},
   "outputs": [
    {
     "data": {
      "image/png": "[encoded data removed]",
      "text/plain": [
       "<Figure size 432x288 with 1 Axes>"
      ]
     },
     "metadata": {},
     "output_type": "display_data"
    }
   ],
   "source": [
    "sns.set(style=\"ticks\", palette=\"pastel\")\n",
    "\n",
    "sns.boxplot(data=data[['likes', 'retweets', 'replies']])\n",
    "\n",
    "sns.despine(offset=10, trim=True)"
   ]
  },
  {
   "cell_type": "markdown",
   "metadata": {},
   "source": [
    "As seen in the box plots above, our data still contains a lot of outliers. Let's investigate all tweets with likes over 200, to begin with."
   ]
  },
  {
   "cell_type": "code",
   "execution_count": 34,
   "metadata": {},
   "outputs": [
    {
     "data": {
      "text/html": [
       "<div>\n",
       "<style scoped>\n",
       "    .dataframe tbody tr th:only-of-type {\n",
       "        vertical-align: middle;\n",
       "    }\n",
       "\n",
       "    .dataframe tbody tr th {\n",
       "        vertical-align: top;\n",
       "    }\n",
       "\n",
       "    .dataframe thead th {\n",
       "        text-align: right;\n",
       "    }\n",
       "</style>\n",
       "<table border=\"1\" class=\"dataframe\">\n",
       "  <thead>\n",
       "    <tr style=\"text-align: right;\">\n",
       "      <th></th>\n",
       "      <th>created_at</th>\n",
       "      <th>likes</th>\n",
       "      <th>replies</th>\n",
       "      <th>retweets</th>\n",
       "      <th>text</th>\n",
       "      <th>user_screen_name</th>\n",
       "      <th>key_word_cleaner</th>\n",
       "    </tr>\n",
       "  </thead>\n",
       "  <tbody>\n",
       "    <tr>\n",
       "      <th>5</th>\n",
       "      <td>2019-03-25 12:49:05</td>\n",
       "      <td>292</td>\n",
       "      <td>105</td>\n",
       "      <td>22</td>\n",
       "      <td>hie @EcoCashZW @econet_support l bought $1 dai...</td>\n",
       "      <td>FaffieManhuhwa</td>\n",
       "      <td>0</td>\n",
       "    </tr>\n",
       "    <tr>\n",
       "      <th>63</th>\n",
       "      <td>2019-03-26 05:52:25</td>\n",
       "      <td>221</td>\n",
       "      <td>57</td>\n",
       "      <td>41</td>\n",
       "      <td>Ndambouyawo kuTelecel for the meantime... ndic...</td>\n",
       "      <td>TatsNewton</td>\n",
       "      <td>0</td>\n",
       "    </tr>\n",
       "    <tr>\n",
       "      <th>77</th>\n",
       "      <td>2019-03-23 20:55:34</td>\n",
       "      <td>301</td>\n",
       "      <td>84</td>\n",
       "      <td>36</td>\n",
       "      <td>I'm 21 yrs old. I own 3 major platinum mines (...</td>\n",
       "      <td>joannahself</td>\n",
       "      <td>0</td>\n",
       "    </tr>\n",
       "    <tr>\n",
       "      <th>78</th>\n",
       "      <td>2019-03-22 21:24:01</td>\n",
       "      <td>1055</td>\n",
       "      <td>86</td>\n",
       "      <td>260</td>\n",
       "      <td>The search and rescue operations by the Econet...</td>\n",
       "      <td>TapiwaMunjoma</td>\n",
       "      <td>0</td>\n",
       "    </tr>\n",
       "    <tr>\n",
       "      <th>84</th>\n",
       "      <td>2019-03-22 17:26:36</td>\n",
       "      <td>292</td>\n",
       "      <td>311</td>\n",
       "      <td>33</td>\n",
       "      <td>Leave a message for Econet using lyrics from a...</td>\n",
       "      <td>FaffieManhuhwa</td>\n",
       "      <td>0</td>\n",
       "    </tr>\n",
       "  </tbody>\n",
       "</table>\n",
       "</div>"
      ],
      "text/plain": [
       "             created_at  likes  replies  retweets  \\\n",
       "5   2019-03-25 12:49:05    292      105        22   \n",
       "63  2019-03-26 05:52:25    221       57        41   \n",
       "77  2019-03-23 20:55:34    301       84        36   \n",
       "78  2019-03-22 21:24:01   1055       86       260   \n",
       "84  2019-03-22 17:26:36    292      311        33   \n",
       "\n",
       "                                                 text user_screen_name  \\\n",
       "5   hie @EcoCashZW @econet_support l bought $1 dai...   FaffieManhuhwa   \n",
       "63  Ndambouyawo kuTelecel for the meantime... ndic...       TatsNewton   \n",
       "77  I'm 21 yrs old. I own 3 major platinum mines (...      joannahself   \n",
       "78  The search and rescue operations by the Econet...    TapiwaMunjoma   \n",
       "84  Leave a message for Econet using lyrics from a...   FaffieManhuhwa   \n",
       "\n",
       "    key_word_cleaner  \n",
       "5                  0  \n",
       "63                 0  \n",
       "77                 0  \n",
       "78                 0  \n",
       "84                 0  "
      ]
     },
     "execution_count": 34,
     "metadata": {},
     "output_type": "execute_result"
    }
   ],
   "source": [
    "data[data['likes']>200].head()"
   ]
  },
  {
   "cell_type": "markdown",
   "metadata": {},
   "source": [
    "A quick scroll through the tweets shows that most of them are very legitimate."
   ]
  },
  {
   "cell_type": "code",
   "execution_count": 35,
   "metadata": {},
   "outputs": [
    {
     "data": {
      "text/plain": [
       "713    #WhileTheInternetWasOff  l discovered kuti Var...\n",
       "746    Around midnight , #Zimbabwe plunged back into ...\n",
       "754    Seeing as econet was so ready to comply with t...\n",
       "756    On ZBC yesterday, the Ministry of Information ...\n",
       "Name: text, dtype: object"
      ]
     },
     "execution_count": 35,
     "metadata": {},
     "output_type": "execute_result"
    }
   ],
   "source": [
    "data[data['likes']>200].loc[[713, 746, 754, 756]]['text']"
   ]
  },
  {
   "cell_type": "markdown",
   "metadata": {},
   "source": [
    "However, I noticed that a few of these tweets are about January 2019's internet shutdown. It'd be very biased to include this data in the sentiment analysis as it is something Econet had no control over. So let's remove all rows that contain the phrases 'internet shutdown', 'shutdownzimbabwe', 'whiletheinternetwasoff', etc."
   ]
  },
  {
   "cell_type": "code",
   "execution_count": 36,
   "metadata": {},
   "outputs": [],
   "source": [
    "def find_key_words_2(x):\n",
    "    r = re.compile(r'\\#whiletheinternetwasoff | \\#shutdownzimbabwe', flags=re.I | re.X)\n",
    "    if r.findall(x):\n",
    "        return 1\n",
    "    else:\n",
    "        return 0"
   ]
  },
  {
   "cell_type": "code",
   "execution_count": 37,
   "metadata": {},
   "outputs": [],
   "source": [
    "data['key_word_cleaner_2'] = data['text'].apply(find_key_words_2)"
   ]
  },
  {
   "cell_type": "code",
   "execution_count": 38,
   "metadata": {},
   "outputs": [
    {
     "data": {
      "text/html": [
       "<div>\n",
       "<style scoped>\n",
       "    .dataframe tbody tr th:only-of-type {\n",
       "        vertical-align: middle;\n",
       "    }\n",
       "\n",
       "    .dataframe tbody tr th {\n",
       "        vertical-align: top;\n",
       "    }\n",
       "\n",
       "    .dataframe thead th {\n",
       "        text-align: right;\n",
       "    }\n",
       "</style>\n",
       "<table border=\"1\" class=\"dataframe\">\n",
       "  <thead>\n",
       "    <tr style=\"text-align: right;\">\n",
       "      <th></th>\n",
       "      <th>created_at</th>\n",
       "      <th>likes</th>\n",
       "      <th>replies</th>\n",
       "      <th>retweets</th>\n",
       "      <th>text</th>\n",
       "      <th>user_screen_name</th>\n",
       "      <th>key_word_cleaner</th>\n",
       "      <th>key_word_cleaner_2</th>\n",
       "    </tr>\n",
       "  </thead>\n",
       "  <tbody>\n",
       "    <tr>\n",
       "      <th>708</th>\n",
       "      <td>2019-01-23 03:37:52</td>\n",
       "      <td>6</td>\n",
       "      <td>1</td>\n",
       "      <td>0</td>\n",
       "      <td>#WhileTheInternetWasOff i realised that econet...</td>\n",
       "      <td>Tadbean01</td>\n",
       "      <td>0</td>\n",
       "      <td>1</td>\n",
       "    </tr>\n",
       "    <tr>\n",
       "      <th>713</th>\n",
       "      <td>2019-01-22 13:13:50</td>\n",
       "      <td>202</td>\n",
       "      <td>18</td>\n",
       "      <td>22</td>\n",
       "      <td>#WhileTheInternetWasOff  l discovered kuti Var...</td>\n",
       "      <td>WellenceMujuru</td>\n",
       "      <td>0</td>\n",
       "      <td>1</td>\n",
       "    </tr>\n",
       "    <tr>\n",
       "      <th>718</th>\n",
       "      <td>2019-01-22 04:18:09</td>\n",
       "      <td>10</td>\n",
       "      <td>1</td>\n",
       "      <td>2</td>\n",
       "      <td>#WhileTheInternetWasOff\\n#econet please return...</td>\n",
       "      <td>geofreychipere</td>\n",
       "      <td>0</td>\n",
       "      <td>1</td>\n",
       "    </tr>\n",
       "    <tr>\n",
       "      <th>720</th>\n",
       "      <td>2019-01-21 20:15:27</td>\n",
       "      <td>37</td>\n",
       "      <td>0</td>\n",
       "      <td>6</td>\n",
       "      <td>#WhileTheInternetWasOff \\n\\nI learnt that econ...</td>\n",
       "      <td>TainyThatBrat</td>\n",
       "      <td>0</td>\n",
       "      <td>1</td>\n",
       "    </tr>\n",
       "    <tr>\n",
       "      <th>728</th>\n",
       "      <td>2019-01-20 19:25:13</td>\n",
       "      <td>32</td>\n",
       "      <td>1</td>\n",
       "      <td>47</td>\n",
       "      <td>Folks some of the victims of assault we are se...</td>\n",
       "      <td>Ndini_Rumbi</td>\n",
       "      <td>0</td>\n",
       "      <td>1</td>\n",
       "    </tr>\n",
       "  </tbody>\n",
       "</table>\n",
       "</div>"
      ],
      "text/plain": [
       "              created_at  likes  replies  retweets  \\\n",
       "708  2019-01-23 03:37:52      6        1         0   \n",
       "713  2019-01-22 13:13:50    202       18        22   \n",
       "718  2019-01-22 04:18:09     10        1         2   \n",
       "720  2019-01-21 20:15:27     37        0         6   \n",
       "728  2019-01-20 19:25:13     32        1        47   \n",
       "\n",
       "                                                  text user_screen_name  \\\n",
       "708  #WhileTheInternetWasOff i realised that econet...        Tadbean01   \n",
       "713  #WhileTheInternetWasOff  l discovered kuti Var...   WellenceMujuru   \n",
       "718  #WhileTheInternetWasOff\\n#econet please return...   geofreychipere   \n",
       "720  #WhileTheInternetWasOff \\n\\nI learnt that econ...    TainyThatBrat   \n",
       "728  Folks some of the victims of assault we are se...      Ndini_Rumbi   \n",
       "\n",
       "     key_word_cleaner  key_word_cleaner_2  \n",
       "708                 0                   1  \n",
       "713                 0                   1  \n",
       "718                 0                   1  \n",
       "720                 0                   1  \n",
       "728                 0                   1  "
      ]
     },
     "execution_count": 38,
     "metadata": {},
     "output_type": "execute_result"
    }
   ],
   "source": [
    "data[data['key_word_cleaner_2']==1].head()"
   ]
  },
  {
   "cell_type": "code",
   "execution_count": 39,
   "metadata": {},
   "outputs": [
    {
     "data": {
      "text/plain": [
       "14"
      ]
     },
     "execution_count": 39,
     "metadata": {},
     "output_type": "execute_result"
    }
   ],
   "source": [
    "data[data['key_word_cleaner_2']==1].shape[0]"
   ]
  },
  {
   "cell_type": "markdown",
   "metadata": {},
   "source": [
    "The data returned above is that with the hashtags #shutdownzimbabwe and #WhileTheInternetWasOff. There are only 14 rows. However, I believe there are more tweets about the shutdown in the dataframe. Let's subset all tweets that exist in Jan, 2019."
   ]
  },
  {
   "cell_type": "markdown",
   "metadata": {},
   "source": [
    "Let's make the 'created_at' column our index to make subsetting easier."
   ]
  },
  {
   "cell_type": "code",
   "execution_count": 40,
   "metadata": {},
   "outputs": [],
   "source": [
    "data.set_index('created_at', inplace=True)"
   ]
  },
  {
   "cell_type": "code",
   "execution_count": 41,
   "metadata": {},
   "outputs": [],
   "source": [
    "data.index = pd.to_datetime(data.index)"
   ]
  },
  {
   "cell_type": "code",
   "execution_count": 42,
   "metadata": {},
   "outputs": [
    {
     "data": {
      "text/html": [
       "<div>\n",
       "<style scoped>\n",
       "    .dataframe tbody tr th:only-of-type {\n",
       "        vertical-align: middle;\n",
       "    }\n",
       "\n",
       "    .dataframe tbody tr th {\n",
       "        vertical-align: top;\n",
       "    }\n",
       "\n",
       "    .dataframe thead th {\n",
       "        text-align: right;\n",
       "    }\n",
       "</style>\n",
       "<table border=\"1\" class=\"dataframe\">\n",
       "  <thead>\n",
       "    <tr style=\"text-align: right;\">\n",
       "      <th></th>\n",
       "      <th>likes</th>\n",
       "      <th>replies</th>\n",
       "      <th>retweets</th>\n",
       "      <th>text</th>\n",
       "      <th>user_screen_name</th>\n",
       "      <th>key_word_cleaner</th>\n",
       "      <th>key_word_cleaner_2</th>\n",
       "    </tr>\n",
       "    <tr>\n",
       "      <th>created_at</th>\n",
       "      <th></th>\n",
       "      <th></th>\n",
       "      <th></th>\n",
       "      <th></th>\n",
       "      <th></th>\n",
       "      <th></th>\n",
       "      <th></th>\n",
       "    </tr>\n",
       "  </thead>\n",
       "  <tbody>\n",
       "    <tr>\n",
       "      <th>2019-03-24 21:53:04</th>\n",
       "      <td>2</td>\n",
       "      <td>3</td>\n",
       "      <td>0</td>\n",
       "      <td>Hello @econet_support my yo mix app is not ope...</td>\n",
       "      <td>OsybelSimango</td>\n",
       "      <td>0</td>\n",
       "      <td>0</td>\n",
       "    </tr>\n",
       "    <tr>\n",
       "      <th>2019-03-26 00:08:01</th>\n",
       "      <td>55</td>\n",
       "      <td>1</td>\n",
       "      <td>4</td>\n",
       "      <td>Econet needs to stop sending me 4 SEPARATE pro...</td>\n",
       "      <td>TinoNyandoro</td>\n",
       "      <td>0</td>\n",
       "      <td>0</td>\n",
       "    </tr>\n",
       "    <tr>\n",
       "      <th>2019-03-26 15:39:48</th>\n",
       "      <td>0</td>\n",
       "      <td>1</td>\n",
       "      <td>0</td>\n",
       "      <td>@econet_support I sent you my query and no res...</td>\n",
       "      <td>moses_chibike</td>\n",
       "      <td>0</td>\n",
       "      <td>0</td>\n",
       "    </tr>\n",
       "    <tr>\n",
       "      <th>2019-03-26 15:41:48</th>\n",
       "      <td>0</td>\n",
       "      <td>2</td>\n",
       "      <td>1</td>\n",
       "      <td>@econet_support I did ecocash transaction from...</td>\n",
       "      <td>MundawaroPretty</td>\n",
       "      <td>0</td>\n",
       "      <td>0</td>\n",
       "    </tr>\n",
       "    <tr>\n",
       "      <th>2019-03-26 13:35:01</th>\n",
       "      <td>0</td>\n",
       "      <td>1</td>\n",
       "      <td>0</td>\n",
       "      <td>@econet_support  hi guys i am trying to withdr...</td>\n",
       "      <td>JohnNyamutata4</td>\n",
       "      <td>0</td>\n",
       "      <td>0</td>\n",
       "    </tr>\n",
       "  </tbody>\n",
       "</table>\n",
       "</div>"
      ],
      "text/plain": [
       "                     likes  replies  retweets  \\\n",
       "created_at                                      \n",
       "2019-03-24 21:53:04      2        3         0   \n",
       "2019-03-26 00:08:01     55        1         4   \n",
       "2019-03-26 15:39:48      0        1         0   \n",
       "2019-03-26 15:41:48      0        2         1   \n",
       "2019-03-26 13:35:01      0        1         0   \n",
       "\n",
       "                                                                  text  \\\n",
       "created_at                                                               \n",
       "2019-03-24 21:53:04  Hello @econet_support my yo mix app is not ope...   \n",
       "2019-03-26 00:08:01  Econet needs to stop sending me 4 SEPARATE pro...   \n",
       "2019-03-26 15:39:48  @econet_support I sent you my query and no res...   \n",
       "2019-03-26 15:41:48  @econet_support I did ecocash transaction from...   \n",
       "2019-03-26 13:35:01  @econet_support  hi guys i am trying to withdr...   \n",
       "\n",
       "                    user_screen_name  key_word_cleaner  key_word_cleaner_2  \n",
       "created_at                                                                  \n",
       "2019-03-24 21:53:04    OsybelSimango                 0                   0  \n",
       "2019-03-26 00:08:01     TinoNyandoro                 0                   0  \n",
       "2019-03-26 15:39:48    moses_chibike                 0                   0  \n",
       "2019-03-26 15:41:48  MundawaroPretty                 0                   0  \n",
       "2019-03-26 13:35:01   JohnNyamutata4                 0                   0  "
      ]
     },
     "execution_count": 42,
     "metadata": {},
     "output_type": "execute_result"
    }
   ],
   "source": [
    "data.head()"
   ]
  },
  {
   "cell_type": "code",
   "execution_count": 43,
   "metadata": {},
   "outputs": [
    {
     "data": {
      "text/html": [
       "<div>\n",
       "<style scoped>\n",
       "    .dataframe tbody tr th:only-of-type {\n",
       "        vertical-align: middle;\n",
       "    }\n",
       "\n",
       "    .dataframe tbody tr th {\n",
       "        vertical-align: top;\n",
       "    }\n",
       "\n",
       "    .dataframe thead th {\n",
       "        text-align: right;\n",
       "    }\n",
       "</style>\n",
       "<table border=\"1\" class=\"dataframe\">\n",
       "  <thead>\n",
       "    <tr style=\"text-align: right;\">\n",
       "      <th></th>\n",
       "      <th>likes</th>\n",
       "      <th>replies</th>\n",
       "      <th>retweets</th>\n",
       "      <th>text</th>\n",
       "      <th>user_screen_name</th>\n",
       "      <th>key_word_cleaner</th>\n",
       "      <th>key_word_cleaner_2</th>\n",
       "    </tr>\n",
       "    <tr>\n",
       "      <th>created_at</th>\n",
       "      <th></th>\n",
       "      <th></th>\n",
       "      <th></th>\n",
       "      <th></th>\n",
       "      <th></th>\n",
       "      <th></th>\n",
       "      <th></th>\n",
       "    </tr>\n",
       "  </thead>\n",
       "  <tbody>\n",
       "    <tr>\n",
       "      <th>2019-01-01 14:43:09</th>\n",
       "      <td>28</td>\n",
       "      <td>6</td>\n",
       "      <td>16</td>\n",
       "      <td>1. The Strive/Econet/Daniel Shumba story hoggi...</td>\n",
       "      <td>GomoDubi</td>\n",
       "      <td>0</td>\n",
       "      <td>0</td>\n",
       "    </tr>\n",
       "    <tr>\n",
       "      <th>2019-01-02 09:02:32</th>\n",
       "      <td>8</td>\n",
       "      <td>2</td>\n",
       "      <td>1</td>\n",
       "      <td>1.Make undeniably great music\\n2.Branding that...</td>\n",
       "      <td>Planet_Dodger</td>\n",
       "      <td>0</td>\n",
       "      <td>0</td>\n",
       "    </tr>\n",
       "    <tr>\n",
       "      <th>2019-01-02 09:43:33</th>\n",
       "      <td>102</td>\n",
       "      <td>34</td>\n",
       "      <td>25</td>\n",
       "      <td>Life is so good on these streets without the b...</td>\n",
       "      <td>TalithaGudo</td>\n",
       "      <td>0</td>\n",
       "      <td>0</td>\n",
       "    </tr>\n",
       "    <tr>\n",
       "      <th>2019-01-02 09:48:42</th>\n",
       "      <td>14</td>\n",
       "      <td>0</td>\n",
       "      <td>2</td>\n",
       "      <td>It's better to use NetOne knowing you are cont...</td>\n",
       "      <td>Chinamhata_PA</td>\n",
       "      <td>0</td>\n",
       "      <td>0</td>\n",
       "    </tr>\n",
       "    <tr>\n",
       "      <th>2019-01-02 12:03:00</th>\n",
       "      <td>45</td>\n",
       "      <td>9</td>\n",
       "      <td>3</td>\n",
       "      <td>Econet ndomatsotsi ekupedzisira ummm.Hanzi u c...</td>\n",
       "      <td>NatalieMakwetse</td>\n",
       "      <td>0</td>\n",
       "      <td>0</td>\n",
       "    </tr>\n",
       "  </tbody>\n",
       "</table>\n",
       "</div>"
      ],
      "text/plain": [
       "                     likes  replies  retweets  \\\n",
       "created_at                                      \n",
       "2019-01-01 14:43:09     28        6        16   \n",
       "2019-01-02 09:02:32      8        2         1   \n",
       "2019-01-02 09:43:33    102       34        25   \n",
       "2019-01-02 09:48:42     14        0         2   \n",
       "2019-01-02 12:03:00     45        9         3   \n",
       "\n",
       "                                                                  text  \\\n",
       "created_at                                                               \n",
       "2019-01-01 14:43:09  1. The Strive/Econet/Daniel Shumba story hoggi...   \n",
       "2019-01-02 09:02:32  1.Make undeniably great music\\n2.Branding that...   \n",
       "2019-01-02 09:43:33  Life is so good on these streets without the b...   \n",
       "2019-01-02 09:48:42  It's better to use NetOne knowing you are cont...   \n",
       "2019-01-02 12:03:00  Econet ndomatsotsi ekupedzisira ummm.Hanzi u c...   \n",
       "\n",
       "                    user_screen_name  key_word_cleaner  key_word_cleaner_2  \n",
       "created_at                                                                  \n",
       "2019-01-01 14:43:09         GomoDubi                 0                   0  \n",
       "2019-01-02 09:02:32    Planet_Dodger                 0                   0  \n",
       "2019-01-02 09:43:33      TalithaGudo                 0                   0  \n",
       "2019-01-02 09:48:42    Chinamhata_PA                 0                   0  \n",
       "2019-01-02 12:03:00  NatalieMakwetse                 0                   0  "
      ]
     },
     "execution_count": 43,
     "metadata": {},
     "output_type": "execute_result"
    }
   ],
   "source": [
    "data.loc['2019-01'].sort_index().head()"
   ]
  },
  {
   "cell_type": "code",
   "execution_count": 44,
   "metadata": {},
   "outputs": [],
   "source": [
    "def find_key_words_3(x):\n",
    "    r = re.compile(r'\\bblocking\\b | \\bblocked\\b | \\bblock\\b | \\bshutdown\\b | \\bshut\\b | \\bdown\\b', flags=re.I | re.X)\n",
    "    if r.findall(x):\n",
    "        return 1\n",
    "    else:\n",
    "        return 0"
   ]
  },
  {
   "cell_type": "code",
   "execution_count": 45,
   "metadata": {},
   "outputs": [],
   "source": [
    "data['key_word_cleaner_3'] = data['text'].apply(find_key_words_3)"
   ]
  },
  {
   "cell_type": "code",
   "execution_count": 46,
   "metadata": {},
   "outputs": [
    {
     "data": {
      "text/plain": [
       "(31, 8)"
      ]
     },
     "execution_count": 46,
     "metadata": {},
     "output_type": "execute_result"
    }
   ],
   "source": [
    "data.loc['2019-01'][data.loc['2019-01']['key_word_cleaner_3']==1].shape"
   ]
  },
  {
   "cell_type": "markdown",
   "metadata": {},
   "source": [
    "We have found another 31 rows of data to remove."
   ]
  },
  {
   "cell_type": "code",
   "execution_count": 47,
   "metadata": {},
   "outputs": [],
   "source": [
    "data = data[data['key_word_cleaner_2']==0]"
   ]
  },
  {
   "cell_type": "code",
   "execution_count": 49,
   "metadata": {},
   "outputs": [],
   "source": [
    "import warnings"
   ]
  },
  {
   "cell_type": "code",
   "execution_count": 50,
   "metadata": {},
   "outputs": [],
   "source": [
    "warnings.filterwarnings(\"ignore\", category=pd.core.common.SettingWithCopyWarning)"
   ]
  },
  {
   "cell_type": "code",
   "execution_count": 51,
   "metadata": {},
   "outputs": [],
   "source": [
    "exclude_list_2 = list(data.loc['2019-01'][data.loc['2019-01']['key_word_cleaner_3']==1].index.values)\n",
    "data.drop(exclude_list_2, inplace=True)"
   ]
  },
  {
   "cell_type": "code",
   "execution_count": 52,
   "metadata": {},
   "outputs": [
    {
     "data": {
      "text/plain": [
       "4055"
      ]
     },
     "execution_count": 52,
     "metadata": {},
     "output_type": "execute_result"
    }
   ],
   "source": [
    "data.shape[0]"
   ]
  },
  {
   "cell_type": "markdown",
   "metadata": {},
   "source": [
    "Now back to our box plots."
   ]
  },
  {
   "cell_type": "code",
   "execution_count": 53,
   "metadata": {},
   "outputs": [
    {
     "data": {
      "image/png": "[encoded data removed]",
      "text/plain": [
       "<Figure size 432x288 with 1 Axes>"
      ]
     },
     "metadata": {},
     "output_type": "display_data"
    }
   ],
   "source": [
    "sns.set(style=\"ticks\", palette=\"pastel\")\n",
    "\n",
    "sns.boxplot(data=data[['likes', 'retweets', 'replies']])\n",
    "\n",
    "sns.despine(offset=10, trim=True)"
   ]
  },
  {
   "cell_type": "code",
   "execution_count": 54,
   "metadata": {},
   "outputs": [
    {
     "data": {
      "text/html": [
       "<div>\n",
       "<style scoped>\n",
       "    .dataframe tbody tr th:only-of-type {\n",
       "        vertical-align: middle;\n",
       "    }\n",
       "\n",
       "    .dataframe tbody tr th {\n",
       "        vertical-align: top;\n",
       "    }\n",
       "\n",
       "    .dataframe thead th {\n",
       "        text-align: right;\n",
       "    }\n",
       "</style>\n",
       "<table border=\"1\" class=\"dataframe\">\n",
       "  <thead>\n",
       "    <tr style=\"text-align: right;\">\n",
       "      <th></th>\n",
       "      <th>likes</th>\n",
       "      <th>replies</th>\n",
       "      <th>retweets</th>\n",
       "      <th>text</th>\n",
       "      <th>user_screen_name</th>\n",
       "      <th>key_word_cleaner</th>\n",
       "      <th>key_word_cleaner_2</th>\n",
       "      <th>key_word_cleaner_3</th>\n",
       "    </tr>\n",
       "    <tr>\n",
       "      <th>created_at</th>\n",
       "      <th></th>\n",
       "      <th></th>\n",
       "      <th></th>\n",
       "      <th></th>\n",
       "      <th></th>\n",
       "      <th></th>\n",
       "      <th></th>\n",
       "      <th></th>\n",
       "    </tr>\n",
       "  </thead>\n",
       "  <tbody>\n",
       "    <tr>\n",
       "      <th>2019-03-22 21:24:01</th>\n",
       "      <td>1055</td>\n",
       "      <td>86</td>\n",
       "      <td>260</td>\n",
       "      <td>The search and rescue operations by the Econet...</td>\n",
       "      <td>TapiwaMunjoma</td>\n",
       "      <td>0</td>\n",
       "      <td>0</td>\n",
       "      <td>0</td>\n",
       "    </tr>\n",
       "    <tr>\n",
       "      <th>2019-02-28 15:49:19</th>\n",
       "      <td>819</td>\n",
       "      <td>45</td>\n",
       "      <td>140</td>\n",
       "      <td>The smell of onion on your hands actually last...</td>\n",
       "      <td>FaffieManhuhwa</td>\n",
       "      <td>0</td>\n",
       "      <td>0</td>\n",
       "      <td>0</td>\n",
       "    </tr>\n",
       "    <tr>\n",
       "      <th>2019-02-26 17:11:10</th>\n",
       "      <td>637</td>\n",
       "      <td>44</td>\n",
       "      <td>131</td>\n",
       "      <td>They know your girlfriend is texting 8 other g...</td>\n",
       "      <td>4our_Zw</td>\n",
       "      <td>0</td>\n",
       "      <td>0</td>\n",
       "      <td>0</td>\n",
       "    </tr>\n",
       "    <tr>\n",
       "      <th>2019-02-21 08:15:44</th>\n",
       "      <td>698</td>\n",
       "      <td>64</td>\n",
       "      <td>394</td>\n",
       "      <td>Nitel was thrown out of business by competitio...</td>\n",
       "      <td>HAHayatu</td>\n",
       "      <td>0</td>\n",
       "      <td>0</td>\n",
       "      <td>0</td>\n",
       "    </tr>\n",
       "    <tr>\n",
       "      <th>2019-01-04 14:07:45</th>\n",
       "      <td>801</td>\n",
       "      <td>157</td>\n",
       "      <td>154</td>\n",
       "      <td>Econet data is like \\n$1 Daily 250mb\\n$1 weekl...</td>\n",
       "      <td>GuzhaJoyce</td>\n",
       "      <td>0</td>\n",
       "      <td>0</td>\n",
       "      <td>0</td>\n",
       "    </tr>\n",
       "  </tbody>\n",
       "</table>\n",
       "</div>"
      ],
      "text/plain": [
       "                     likes  replies  retweets  \\\n",
       "created_at                                      \n",
       "2019-03-22 21:24:01   1055       86       260   \n",
       "2019-02-28 15:49:19    819       45       140   \n",
       "2019-02-26 17:11:10    637       44       131   \n",
       "2019-02-21 08:15:44    698       64       394   \n",
       "2019-01-04 14:07:45    801      157       154   \n",
       "\n",
       "                                                                  text  \\\n",
       "created_at                                                               \n",
       "2019-03-22 21:24:01  The search and rescue operations by the Econet...   \n",
       "2019-02-28 15:49:19  The smell of onion on your hands actually last...   \n",
       "2019-02-26 17:11:10  They know your girlfriend is texting 8 other g...   \n",
       "2019-02-21 08:15:44  Nitel was thrown out of business by competitio...   \n",
       "2019-01-04 14:07:45  Econet data is like \\n$1 Daily 250mb\\n$1 weekl...   \n",
       "\n",
       "                    user_screen_name  key_word_cleaner  key_word_cleaner_2  \\\n",
       "created_at                                                                   \n",
       "2019-03-22 21:24:01    TapiwaMunjoma                 0                   0   \n",
       "2019-02-28 15:49:19   FaffieManhuhwa                 0                   0   \n",
       "2019-02-26 17:11:10          4our_Zw                 0                   0   \n",
       "2019-02-21 08:15:44         HAHayatu                 0                   0   \n",
       "2019-01-04 14:07:45       GuzhaJoyce                 0                   0   \n",
       "\n",
       "                     key_word_cleaner_3  \n",
       "created_at                               \n",
       "2019-03-22 21:24:01                   0  \n",
       "2019-02-28 15:49:19                   0  \n",
       "2019-02-26 17:11:10                   0  \n",
       "2019-02-21 08:15:44                   0  \n",
       "2019-01-04 14:07:45                   0  "
      ]
     },
     "execution_count": 54,
     "metadata": {},
     "output_type": "execute_result"
    }
   ],
   "source": [
    "data[data['likes']>500].head()"
   ]
  },
  {
   "cell_type": "markdown",
   "metadata": {},
   "source": [
    "Again, although the large number of likes and/or retweets signals a flag differentiating these tweets from the majority, the content says otherwise. What we can simply deduce from this is that these tweets contain content that resonated with more people than the ones found in our IQR."
   ]
  },
  {
   "cell_type": "markdown",
   "metadata": {},
   "source": [
    "For curiosity's sake, let's transform our likes, retweets and replies columns to a more shorter scale so that we can investigate the shape of the spread of our data."
   ]
  },
  {
   "cell_type": "code",
   "execution_count": 55,
   "metadata": {},
   "outputs": [],
   "source": [
    "import numpy as np\n",
    "\n",
    "data[\"log(likes)\"] = data[\"likes\"] + 7\n",
    "data[\"log(likes)\"] = data[\"log(likes)\"].apply(np.log)\n",
    "\n",
    "data[\"log(retweets)\"] = data[\"retweets\"] + 7\n",
    "data[\"log(retweets)\"] = data[\"log(retweets)\"].apply(np.log)\n",
    "\n",
    "data[\"log(replies)\"] = data[\"replies\"] + 7\n",
    "data[\"log(replies)\"] = data[\"log(replies)\"].apply(np.log)"
   ]
  },
  {
   "cell_type": "code",
   "execution_count": 56,
   "metadata": {},
   "outputs": [
    {
     "data": {
      "text/html": [
       "<div>\n",
       "<style scoped>\n",
       "    .dataframe tbody tr th:only-of-type {\n",
       "        vertical-align: middle;\n",
       "    }\n",
       "\n",
       "    .dataframe tbody tr th {\n",
       "        vertical-align: top;\n",
       "    }\n",
       "\n",
       "    .dataframe thead th {\n",
       "        text-align: right;\n",
       "    }\n",
       "</style>\n",
       "<table border=\"1\" class=\"dataframe\">\n",
       "  <thead>\n",
       "    <tr style=\"text-align: right;\">\n",
       "      <th></th>\n",
       "      <th>likes</th>\n",
       "      <th>replies</th>\n",
       "      <th>retweets</th>\n",
       "      <th>text</th>\n",
       "      <th>user_screen_name</th>\n",
       "      <th>key_word_cleaner</th>\n",
       "      <th>key_word_cleaner_2</th>\n",
       "      <th>key_word_cleaner_3</th>\n",
       "      <th>log(likes)</th>\n",
       "      <th>log(retweets)</th>\n",
       "      <th>log(replies)</th>\n",
       "    </tr>\n",
       "    <tr>\n",
       "      <th>created_at</th>\n",
       "      <th></th>\n",
       "      <th></th>\n",
       "      <th></th>\n",
       "      <th></th>\n",
       "      <th></th>\n",
       "      <th></th>\n",
       "      <th></th>\n",
       "      <th></th>\n",
       "      <th></th>\n",
       "      <th></th>\n",
       "      <th></th>\n",
       "    </tr>\n",
       "  </thead>\n",
       "  <tbody>\n",
       "    <tr>\n",
       "      <th>2019-03-24 21:53:04</th>\n",
       "      <td>2</td>\n",
       "      <td>3</td>\n",
       "      <td>0</td>\n",
       "      <td>Hello @econet_support my yo mix app is not ope...</td>\n",
       "      <td>OsybelSimango</td>\n",
       "      <td>0</td>\n",
       "      <td>0</td>\n",
       "      <td>0</td>\n",
       "      <td>2.197225</td>\n",
       "      <td>1.945910</td>\n",
       "      <td>2.302585</td>\n",
       "    </tr>\n",
       "    <tr>\n",
       "      <th>2019-03-26 00:08:01</th>\n",
       "      <td>55</td>\n",
       "      <td>1</td>\n",
       "      <td>4</td>\n",
       "      <td>Econet needs to stop sending me 4 SEPARATE pro...</td>\n",
       "      <td>TinoNyandoro</td>\n",
       "      <td>0</td>\n",
       "      <td>0</td>\n",
       "      <td>0</td>\n",
       "      <td>4.127134</td>\n",
       "      <td>2.397895</td>\n",
       "      <td>2.079442</td>\n",
       "    </tr>\n",
       "    <tr>\n",
       "      <th>2019-03-26 15:39:48</th>\n",
       "      <td>0</td>\n",
       "      <td>1</td>\n",
       "      <td>0</td>\n",
       "      <td>@econet_support I sent you my query and no res...</td>\n",
       "      <td>moses_chibike</td>\n",
       "      <td>0</td>\n",
       "      <td>0</td>\n",
       "      <td>0</td>\n",
       "      <td>1.945910</td>\n",
       "      <td>1.945910</td>\n",
       "      <td>2.079442</td>\n",
       "    </tr>\n",
       "    <tr>\n",
       "      <th>2019-03-26 15:41:48</th>\n",
       "      <td>0</td>\n",
       "      <td>2</td>\n",
       "      <td>1</td>\n",
       "      <td>@econet_support I did ecocash transaction from...</td>\n",
       "      <td>MundawaroPretty</td>\n",
       "      <td>0</td>\n",
       "      <td>0</td>\n",
       "      <td>0</td>\n",
       "      <td>1.945910</td>\n",
       "      <td>2.079442</td>\n",
       "      <td>2.197225</td>\n",
       "    </tr>\n",
       "    <tr>\n",
       "      <th>2019-03-26 13:35:01</th>\n",
       "      <td>0</td>\n",
       "      <td>1</td>\n",
       "      <td>0</td>\n",
       "      <td>@econet_support  hi guys i am trying to withdr...</td>\n",
       "      <td>JohnNyamutata4</td>\n",
       "      <td>0</td>\n",
       "      <td>0</td>\n",
       "      <td>0</td>\n",
       "      <td>1.945910</td>\n",
       "      <td>1.945910</td>\n",
       "      <td>2.079442</td>\n",
       "    </tr>\n",
       "  </tbody>\n",
       "</table>\n",
       "</div>"
      ],
      "text/plain": [
       "                     likes  replies  retweets  \\\n",
       "created_at                                      \n",
       "2019-03-24 21:53:04      2        3         0   \n",
       "2019-03-26 00:08:01     55        1         4   \n",
       "2019-03-26 15:39:48      0        1         0   \n",
       "2019-03-26 15:41:48      0        2         1   \n",
       "2019-03-26 13:35:01      0        1         0   \n",
       "\n",
       "                                                                  text  \\\n",
       "created_at                                                               \n",
       "2019-03-24 21:53:04  Hello @econet_support my yo mix app is not ope...   \n",
       "2019-03-26 00:08:01  Econet needs to stop sending me 4 SEPARATE pro...   \n",
       "2019-03-26 15:39:48  @econet_support I sent you my query and no res...   \n",
       "2019-03-26 15:41:48  @econet_support I did ecocash transaction from...   \n",
       "2019-03-26 13:35:01  @econet_support  hi guys i am trying to withdr...   \n",
       "\n",
       "                    user_screen_name  key_word_cleaner  key_word_cleaner_2  \\\n",
       "created_at                                                                   \n",
       "2019-03-24 21:53:04    OsybelSimango                 0                   0   \n",
       "2019-03-26 00:08:01     TinoNyandoro                 0                   0   \n",
       "2019-03-26 15:39:48    moses_chibike                 0                   0   \n",
       "2019-03-26 15:41:48  MundawaroPretty                 0                   0   \n",
       "2019-03-26 13:35:01   JohnNyamutata4                 0                   0   \n",
       "\n",
       "                     key_word_cleaner_3  log(likes)  log(retweets)  \\\n",
       "created_at                                                           \n",
       "2019-03-24 21:53:04                   0    2.197225       1.945910   \n",
       "2019-03-26 00:08:01                   0    4.127134       2.397895   \n",
       "2019-03-26 15:39:48                   0    1.945910       1.945910   \n",
       "2019-03-26 15:41:48                   0    1.945910       2.079442   \n",
       "2019-03-26 13:35:01                   0    1.945910       1.945910   \n",
       "\n",
       "                     log(replies)  \n",
       "created_at                         \n",
       "2019-03-24 21:53:04      2.302585  \n",
       "2019-03-26 00:08:01      2.079442  \n",
       "2019-03-26 15:39:48      2.079442  \n",
       "2019-03-26 15:41:48      2.197225  \n",
       "2019-03-26 13:35:01      2.079442  "
      ]
     },
     "execution_count": 56,
     "metadata": {},
     "output_type": "execute_result"
    }
   ],
   "source": [
    "data.head()"
   ]
  },
  {
   "cell_type": "code",
   "execution_count": 57,
   "metadata": {},
   "outputs": [
    {
     "data": {
      "image/png": "[encoded data removed]",
      "text/plain": [
       "<Figure size 432x288 with 1 Axes>"
      ]
     },
     "metadata": {},
     "output_type": "display_data"
    }
   ],
   "source": [
    "sns.set(style=\"ticks\", palette=\"pastel\")\n",
    "\n",
    "sns.boxplot(data=data[['log(likes)', 'log(retweets)', 'log(replies)']])\n",
    "\n",
    "sns.despine(offset=10, trim=True)"
   ]
  },
  {
   "cell_type": "markdown",
   "metadata": {},
   "source": [
    "For both likes and retweets, the data in the upper quartile seems to be more spread than that in the bottom. The replies seem to be more evenly balanced around the median. Let's get a rough idea of the number of outliers we've compared to the rest of our data."
   ]
  },
  {
   "cell_type": "code",
   "execution_count": 58,
   "metadata": {},
   "outputs": [
    {
     "data": {
      "text/html": [
       "<div>\n",
       "<style scoped>\n",
       "    .dataframe tbody tr th:only-of-type {\n",
       "        vertical-align: middle;\n",
       "    }\n",
       "\n",
       "    .dataframe tbody tr th {\n",
       "        vertical-align: top;\n",
       "    }\n",
       "\n",
       "    .dataframe thead th {\n",
       "        text-align: right;\n",
       "    }\n",
       "</style>\n",
       "<table border=\"1\" class=\"dataframe\">\n",
       "  <thead>\n",
       "    <tr style=\"text-align: right;\">\n",
       "      <th></th>\n",
       "      <th>likes</th>\n",
       "      <th>replies</th>\n",
       "      <th>retweets</th>\n",
       "      <th>key_word_cleaner</th>\n",
       "      <th>key_word_cleaner_2</th>\n",
       "      <th>key_word_cleaner_3</th>\n",
       "      <th>log(likes)</th>\n",
       "      <th>log(retweets)</th>\n",
       "      <th>log(replies)</th>\n",
       "    </tr>\n",
       "  </thead>\n",
       "  <tbody>\n",
       "    <tr>\n",
       "      <th>count</th>\n",
       "      <td>4055.000000</td>\n",
       "      <td>4055.000000</td>\n",
       "      <td>4055.000000</td>\n",
       "      <td>4055.0</td>\n",
       "      <td>4055.0</td>\n",
       "      <td>4055.000000</td>\n",
       "      <td>4055.000000</td>\n",
       "      <td>4055.000000</td>\n",
       "      <td>4055.000000</td>\n",
       "    </tr>\n",
       "    <tr>\n",
       "      <th>mean</th>\n",
       "      <td>26.859926</td>\n",
       "      <td>3.513687</td>\n",
       "      <td>12.439704</td>\n",
       "      <td>0.0</td>\n",
       "      <td>0.0</td>\n",
       "      <td>0.017756</td>\n",
       "      <td>2.895478</td>\n",
       "      <td>2.627719</td>\n",
       "      <td>2.200869</td>\n",
       "    </tr>\n",
       "    <tr>\n",
       "      <th>std</th>\n",
       "      <td>72.238625</td>\n",
       "      <td>11.476182</td>\n",
       "      <td>32.973697</td>\n",
       "      <td>0.0</td>\n",
       "      <td>0.0</td>\n",
       "      <td>0.132079</td>\n",
       "      <td>0.925078</td>\n",
       "      <td>0.653201</td>\n",
       "      <td>0.427623</td>\n",
       "    </tr>\n",
       "    <tr>\n",
       "      <th>min</th>\n",
       "      <td>0.000000</td>\n",
       "      <td>0.000000</td>\n",
       "      <td>0.000000</td>\n",
       "      <td>0.0</td>\n",
       "      <td>0.0</td>\n",
       "      <td>0.000000</td>\n",
       "      <td>1.945910</td>\n",
       "      <td>1.945910</td>\n",
       "      <td>1.945910</td>\n",
       "    </tr>\n",
       "    <tr>\n",
       "      <th>25%</th>\n",
       "      <td>2.000000</td>\n",
       "      <td>0.000000</td>\n",
       "      <td>2.000000</td>\n",
       "      <td>0.0</td>\n",
       "      <td>0.0</td>\n",
       "      <td>0.000000</td>\n",
       "      <td>2.197225</td>\n",
       "      <td>2.197225</td>\n",
       "      <td>1.945910</td>\n",
       "    </tr>\n",
       "    <tr>\n",
       "      <th>50%</th>\n",
       "      <td>6.000000</td>\n",
       "      <td>1.000000</td>\n",
       "      <td>4.000000</td>\n",
       "      <td>0.0</td>\n",
       "      <td>0.0</td>\n",
       "      <td>0.000000</td>\n",
       "      <td>2.564949</td>\n",
       "      <td>2.397895</td>\n",
       "      <td>2.079442</td>\n",
       "    </tr>\n",
       "    <tr>\n",
       "      <th>75%</th>\n",
       "      <td>24.000000</td>\n",
       "      <td>2.000000</td>\n",
       "      <td>10.000000</td>\n",
       "      <td>0.0</td>\n",
       "      <td>0.0</td>\n",
       "      <td>0.000000</td>\n",
       "      <td>3.433987</td>\n",
       "      <td>2.833213</td>\n",
       "      <td>2.197225</td>\n",
       "    </tr>\n",
       "    <tr>\n",
       "      <th>max</th>\n",
       "      <td>1497.000000</td>\n",
       "      <td>311.000000</td>\n",
       "      <td>892.000000</td>\n",
       "      <td>0.0</td>\n",
       "      <td>0.0</td>\n",
       "      <td>1.000000</td>\n",
       "      <td>7.315884</td>\n",
       "      <td>6.801283</td>\n",
       "      <td>5.762051</td>\n",
       "    </tr>\n",
       "  </tbody>\n",
       "</table>\n",
       "</div>"
      ],
      "text/plain": [
       "             likes      replies     retweets  key_word_cleaner  \\\n",
       "count  4055.000000  4055.000000  4055.000000            4055.0   \n",
       "mean     26.859926     3.513687    12.439704               0.0   \n",
       "std      72.238625    11.476182    32.973697               0.0   \n",
       "min       0.000000     0.000000     0.000000               0.0   \n",
       "25%       2.000000     0.000000     2.000000               0.0   \n",
       "50%       6.000000     1.000000     4.000000               0.0   \n",
       "75%      24.000000     2.000000    10.000000               0.0   \n",
       "max    1497.000000   311.000000   892.000000               0.0   \n",
       "\n",
       "       key_word_cleaner_2  key_word_cleaner_3   log(likes)  log(retweets)  \\\n",
       "count              4055.0         4055.000000  4055.000000    4055.000000   \n",
       "mean                  0.0            0.017756     2.895478       2.627719   \n",
       "std                   0.0            0.132079     0.925078       0.653201   \n",
       "min                   0.0            0.000000     1.945910       1.945910   \n",
       "25%                   0.0            0.000000     2.197225       2.197225   \n",
       "50%                   0.0            0.000000     2.564949       2.397895   \n",
       "75%                   0.0            0.000000     3.433987       2.833213   \n",
       "max                   0.0            1.000000     7.315884       6.801283   \n",
       "\n",
       "       log(replies)  \n",
       "count   4055.000000  \n",
       "mean       2.200869  \n",
       "std        0.427623  \n",
       "min        1.945910  \n",
       "25%        1.945910  \n",
       "50%        2.079442  \n",
       "75%        2.197225  \n",
       "max        5.762051  "
      ]
     },
     "execution_count": 58,
     "metadata": {},
     "output_type": "execute_result"
    }
   ],
   "source": [
    "data.describe()"
   ]
  },
  {
   "cell_type": "code",
   "execution_count": 59,
   "metadata": {},
   "outputs": [
    {
     "name": "stdout",
     "output_type": "stream",
     "text": [
      "Outliers: 115\n",
      "Rest of data 3940\n"
     ]
    }
   ],
   "source": [
    "print('Outliers: {}'.format(data[data['log(likes)']>5.2].shape[0]))\n",
    "print('Rest of data {}'.format(data.shape[0]-data[data['log(likes)']>5.2].shape[0]))"
   ]
  },
  {
   "cell_type": "markdown",
   "metadata": {},
   "source": [
    "Our descriptive stats show that 'key_word_cleaner_3' has a ma value of 1. This is a red flag as we should've dropped all rows with a value of 1 in that column. Let's investigate."
   ]
  },
  {
   "cell_type": "code",
   "execution_count": 60,
   "metadata": {},
   "outputs": [
    {
     "data": {
      "text/plain": [
       "72"
      ]
     },
     "execution_count": 60,
     "metadata": {},
     "output_type": "execute_result"
    }
   ],
   "source": [
    "data[data['key_word_cleaner_3']==1].shape[0]"
   ]
  },
  {
   "cell_type": "markdown",
   "metadata": {},
   "source": [
    "There are 72 rows which we forgot to drop. Let's fix that error."
   ]
  },
  {
   "cell_type": "code",
   "execution_count": 61,
   "metadata": {},
   "outputs": [],
   "source": [
    "data = data[data['key_word_cleaner_3']==0]"
   ]
  },
  {
   "cell_type": "code",
   "execution_count": 62,
   "metadata": {},
   "outputs": [
    {
     "data": {
      "text/plain": [
       "3983"
      ]
     },
     "execution_count": 62,
     "metadata": {},
     "output_type": "execute_result"
    }
   ],
   "source": [
    "data.shape[0]"
   ]
  },
  {
   "cell_type": "markdown",
   "metadata": {},
   "source": [
    "I just remembered that there is an ecosure account on twitter, as well as for elevateyouth onemoney and telecash. Let's see if there are any tweets associated with them."
   ]
  },
  {
   "cell_type": "code",
   "execution_count": 64,
   "metadata": {},
   "outputs": [
    {
     "data": {
      "text/html": [
       "<div>\n",
       "<style scoped>\n",
       "    .dataframe tbody tr th:only-of-type {\n",
       "        vertical-align: middle;\n",
       "    }\n",
       "\n",
       "    .dataframe tbody tr th {\n",
       "        vertical-align: top;\n",
       "    }\n",
       "\n",
       "    .dataframe thead th {\n",
       "        text-align: right;\n",
       "    }\n",
       "</style>\n",
       "<table border=\"1\" class=\"dataframe\">\n",
       "  <thead>\n",
       "    <tr style=\"text-align: right;\">\n",
       "      <th></th>\n",
       "      <th>likes</th>\n",
       "      <th>replies</th>\n",
       "      <th>retweets</th>\n",
       "      <th>text</th>\n",
       "      <th>user_screen_name</th>\n",
       "      <th>key_word_cleaner</th>\n",
       "      <th>key_word_cleaner_2</th>\n",
       "      <th>key_word_cleaner_3</th>\n",
       "      <th>log(likes)</th>\n",
       "      <th>log(retweets)</th>\n",
       "      <th>log(replies)</th>\n",
       "    </tr>\n",
       "    <tr>\n",
       "      <th>created_at</th>\n",
       "      <th></th>\n",
       "      <th></th>\n",
       "      <th></th>\n",
       "      <th></th>\n",
       "      <th></th>\n",
       "      <th></th>\n",
       "      <th></th>\n",
       "      <th></th>\n",
       "      <th></th>\n",
       "      <th></th>\n",
       "      <th></th>\n",
       "    </tr>\n",
       "  </thead>\n",
       "  <tbody>\n",
       "    <tr>\n",
       "      <th>2019-03-26 06:55:36</th>\n",
       "      <td>16</td>\n",
       "      <td>1</td>\n",
       "      <td>9</td>\n",
       "      <td>Enjoy the convenience of sending and receiving...</td>\n",
       "      <td>OneMoneyZw</td>\n",
       "      <td>0</td>\n",
       "      <td>0</td>\n",
       "      <td>0</td>\n",
       "      <td>3.135494</td>\n",
       "      <td>2.772589</td>\n",
       "      <td>2.079442</td>\n",
       "    </tr>\n",
       "    <tr>\n",
       "      <th>2019-03-11 12:14:32</th>\n",
       "      <td>37</td>\n",
       "      <td>4</td>\n",
       "      <td>17</td>\n",
       "      <td>SWITCH OVER TODAY\\n\\nSwitch over to OneMoney t...</td>\n",
       "      <td>OneMoneyZw</td>\n",
       "      <td>0</td>\n",
       "      <td>0</td>\n",
       "      <td>0</td>\n",
       "      <td>3.784190</td>\n",
       "      <td>3.178054</td>\n",
       "      <td>2.397895</td>\n",
       "    </tr>\n",
       "    <tr>\n",
       "      <th>2019-02-22 13:44:15</th>\n",
       "      <td>73</td>\n",
       "      <td>12</td>\n",
       "      <td>71</td>\n",
       "      <td>Lets Do This.. #WeekendVibes with @DjClive Liv...</td>\n",
       "      <td>elevateyouthzw</td>\n",
       "      <td>0</td>\n",
       "      <td>0</td>\n",
       "      <td>0</td>\n",
       "      <td>4.382027</td>\n",
       "      <td>4.356709</td>\n",
       "      <td>2.944439</td>\n",
       "    </tr>\n",
       "    <tr>\n",
       "      <th>2019-02-15 08:52:27</th>\n",
       "      <td>19</td>\n",
       "      <td>0</td>\n",
       "      <td>12</td>\n",
       "      <td>#CONVENIENCE\\n\\nTalk about convenience, swipe ...</td>\n",
       "      <td>OneMoneyZw</td>\n",
       "      <td>0</td>\n",
       "      <td>0</td>\n",
       "      <td>0</td>\n",
       "      <td>3.258097</td>\n",
       "      <td>2.944439</td>\n",
       "      <td>1.945910</td>\n",
       "    </tr>\n",
       "    <tr>\n",
       "      <th>2019-02-07 13:06:20</th>\n",
       "      <td>45</td>\n",
       "      <td>0</td>\n",
       "      <td>50</td>\n",
       "      <td>To make a claim on EcoSure, simply visit your ...</td>\n",
       "      <td>EcoSureZW</td>\n",
       "      <td>0</td>\n",
       "      <td>0</td>\n",
       "      <td>0</td>\n",
       "      <td>3.951244</td>\n",
       "      <td>4.043051</td>\n",
       "      <td>1.945910</td>\n",
       "    </tr>\n",
       "  </tbody>\n",
       "</table>\n",
       "</div>"
      ],
      "text/plain": [
       "                     likes  replies  retweets  \\\n",
       "created_at                                      \n",
       "2019-03-26 06:55:36     16        1         9   \n",
       "2019-03-11 12:14:32     37        4        17   \n",
       "2019-02-22 13:44:15     73       12        71   \n",
       "2019-02-15 08:52:27     19        0        12   \n",
       "2019-02-07 13:06:20     45        0        50   \n",
       "\n",
       "                                                                  text  \\\n",
       "created_at                                                               \n",
       "2019-03-26 06:55:36  Enjoy the convenience of sending and receiving...   \n",
       "2019-03-11 12:14:32  SWITCH OVER TODAY\\n\\nSwitch over to OneMoney t...   \n",
       "2019-02-22 13:44:15  Lets Do This.. #WeekendVibes with @DjClive Liv...   \n",
       "2019-02-15 08:52:27  #CONVENIENCE\\n\\nTalk about convenience, swipe ...   \n",
       "2019-02-07 13:06:20  To make a claim on EcoSure, simply visit your ...   \n",
       "\n",
       "                    user_screen_name  key_word_cleaner  key_word_cleaner_2  \\\n",
       "created_at                                                                   \n",
       "2019-03-26 06:55:36       OneMoneyZw                 0                   0   \n",
       "2019-03-11 12:14:32       OneMoneyZw                 0                   0   \n",
       "2019-02-22 13:44:15   elevateyouthzw                 0                   0   \n",
       "2019-02-15 08:52:27       OneMoneyZw                 0                   0   \n",
       "2019-02-07 13:06:20        EcoSureZW                 0                   0   \n",
       "\n",
       "                     key_word_cleaner_3  log(likes)  log(retweets)  \\\n",
       "created_at                                                           \n",
       "2019-03-26 06:55:36                   0    3.135494       2.772589   \n",
       "2019-03-11 12:14:32                   0    3.784190       3.178054   \n",
       "2019-02-22 13:44:15                   0    4.382027       4.356709   \n",
       "2019-02-15 08:52:27                   0    3.258097       2.944439   \n",
       "2019-02-07 13:06:20                   0    3.951244       4.043051   \n",
       "\n",
       "                     log(replies)  \n",
       "created_at                         \n",
       "2019-03-26 06:55:36      2.079442  \n",
       "2019-03-11 12:14:32      2.397895  \n",
       "2019-02-22 13:44:15      2.944439  \n",
       "2019-02-15 08:52:27      1.945910  \n",
       "2019-02-07 13:06:20      1.945910  "
      ]
     },
     "execution_count": 64,
     "metadata": {},
     "output_type": "execute_result"
    }
   ],
   "source": [
    "data[(data['user_screen_name']=='EcoSureZW') | (data['user_screen_name']=='OneMoneyZw') | (data['user_screen_name']=='TelecashZim') | (data['user_screen_name']=='elevateyouthzw')].head()"
   ]
  },
  {
   "cell_type": "markdown",
   "metadata": {},
   "source": [
    "The tweets exist. Let's do away with them"
   ]
  },
  {
   "cell_type": "code",
   "execution_count": 65,
   "metadata": {},
   "outputs": [],
   "source": [
    "ex = data[(data['user_screen_name']=='EcoSureZW') | (data['user_screen_name']=='OneMoneyZw') | (data['user_screen_name']=='TelecashZim') | (data['user_screen_name']=='elevateyouthzw')]\n",
    "exclude_list_2 = list(ex.index.values)\n",
    "data.drop(exclude_list_2, inplace=True)"
   ]
  },
  {
   "cell_type": "code",
   "execution_count": 66,
   "metadata": {},
   "outputs": [
    {
     "data": {
      "text/plain": [
       "3940"
      ]
     },
     "execution_count": 66,
     "metadata": {},
     "output_type": "execute_result"
    }
   ],
   "source": [
    "data.shape[0]"
   ]
  },
  {
   "cell_type": "markdown",
   "metadata": {},
   "source": [
    "We have cleaned our data by removing irrelevant rows to our analysis as much as possible given the information that we know so far. Further rows can be deleted later when new insights appear. For now, this is the best we can do."
   ]
  },
  {
   "cell_type": "markdown",
   "metadata": {},
   "source": [
    "Let's drop the columns that we no longer need."
   ]
  },
  {
   "cell_type": "code",
   "execution_count": 67,
   "metadata": {},
   "outputs": [],
   "source": [
    "data.drop(columns=['key_word_cleaner', 'key_word_cleaner_2', 'key_word_cleaner_3',\n",
    "       'log(likes)', 'log(retweets)', 'log(replies)'], inplace=True)"
   ]
  },
  {
   "cell_type": "code",
   "execution_count": 68,
   "metadata": {},
   "outputs": [
    {
     "data": {
      "text/html": [
       "<div>\n",
       "<style scoped>\n",
       "    .dataframe tbody tr th:only-of-type {\n",
       "        vertical-align: middle;\n",
       "    }\n",
       "\n",
       "    .dataframe tbody tr th {\n",
       "        vertical-align: top;\n",
       "    }\n",
       "\n",
       "    .dataframe thead th {\n",
       "        text-align: right;\n",
       "    }\n",
       "</style>\n",
       "<table border=\"1\" class=\"dataframe\">\n",
       "  <thead>\n",
       "    <tr style=\"text-align: right;\">\n",
       "      <th></th>\n",
       "      <th>likes</th>\n",
       "      <th>replies</th>\n",
       "      <th>retweets</th>\n",
       "      <th>text</th>\n",
       "      <th>user_screen_name</th>\n",
       "    </tr>\n",
       "    <tr>\n",
       "      <th>created_at</th>\n",
       "      <th></th>\n",
       "      <th></th>\n",
       "      <th></th>\n",
       "      <th></th>\n",
       "      <th></th>\n",
       "    </tr>\n",
       "  </thead>\n",
       "  <tbody>\n",
       "    <tr>\n",
       "      <th>2019-03-24 21:53:04</th>\n",
       "      <td>2</td>\n",
       "      <td>3</td>\n",
       "      <td>0</td>\n",
       "      <td>Hello @econet_support my yo mix app is not ope...</td>\n",
       "      <td>OsybelSimango</td>\n",
       "    </tr>\n",
       "    <tr>\n",
       "      <th>2019-03-26 00:08:01</th>\n",
       "      <td>55</td>\n",
       "      <td>1</td>\n",
       "      <td>4</td>\n",
       "      <td>Econet needs to stop sending me 4 SEPARATE pro...</td>\n",
       "      <td>TinoNyandoro</td>\n",
       "    </tr>\n",
       "    <tr>\n",
       "      <th>2019-03-26 15:39:48</th>\n",
       "      <td>0</td>\n",
       "      <td>1</td>\n",
       "      <td>0</td>\n",
       "      <td>@econet_support I sent you my query and no res...</td>\n",
       "      <td>moses_chibike</td>\n",
       "    </tr>\n",
       "  </tbody>\n",
       "</table>\n",
       "</div>"
      ],
      "text/plain": [
       "                     likes  replies  retweets  \\\n",
       "created_at                                      \n",
       "2019-03-24 21:53:04      2        3         0   \n",
       "2019-03-26 00:08:01     55        1         4   \n",
       "2019-03-26 15:39:48      0        1         0   \n",
       "\n",
       "                                                                  text  \\\n",
       "created_at                                                               \n",
       "2019-03-24 21:53:04  Hello @econet_support my yo mix app is not ope...   \n",
       "2019-03-26 00:08:01  Econet needs to stop sending me 4 SEPARATE pro...   \n",
       "2019-03-26 15:39:48  @econet_support I sent you my query and no res...   \n",
       "\n",
       "                    user_screen_name  \n",
       "created_at                            \n",
       "2019-03-24 21:53:04    OsybelSimango  \n",
       "2019-03-26 00:08:01     TinoNyandoro  \n",
       "2019-03-26 15:39:48    moses_chibike  "
      ]
     },
     "execution_count": 68,
     "metadata": {},
     "output_type": "execute_result"
    }
   ],
   "source": [
    "data.head(3)"
   ]
  },
  {
   "cell_type": "markdown",
   "metadata": {},
   "source": [
    "### Cleaning tweet content"
   ]
  },
  {
   "cell_type": "markdown",
   "metadata": {},
   "source": [
    "The content in our tweets is the one we're going to apply sentiment analysis to. However, it is not clean to immediately do classification on. To get the best possible results, we need to transform it."
   ]
  },
  {
   "cell_type": "code",
   "execution_count": 70,
   "metadata": {},
   "outputs": [],
   "source": [
    "# import necessary packages\n",
    "\n",
    "import string\n",
    "import nltk\n",
    "\n",
    "warnings.filterwarnings(\"ignore\", category=DeprecationWarning)"
   ]
  },
  {
   "cell_type": "markdown",
   "metadata": {},
   "source": [
    "#### a) Removing Punctuations, Numbers, and Special Characters"
   ]
  },
  {
   "cell_type": "markdown",
   "metadata": {},
   "source": [
    "Punctuations, numbers and special characters do not help much with sentiment analysis. It is better to remove them from the text. Here we will replace everything except characters and hashtags, with spaces. We also want to remove hyperlinks and trailing 'co' and/or 'zw'. We also want to remove links to twitter pictures."
   ]
  },
  {
   "cell_type": "code",
   "execution_count": 87,
   "metadata": {},
   "outputs": [],
   "source": [
    "data['tidy_tweet'] = data['text'].apply(lambda x: re.sub(r'http+', '', x))\n",
    "data['tidy_tweet'] = data['tidy_tweet'].apply(lambda x: re.sub(r'pic\\.+', '', x))"
   ]
  },
  {
   "cell_type": "code",
   "execution_count": 88,
   "metadata": {},
   "outputs": [],
   "source": [
    "data['tidy_tweet'] = data['tidy_tweet'].str.replace(\"[^a-zA-Z#]\", \" \")\n",
    "data['tidy_tweet'] = data['tidy_tweet'].apply(str.lower)"
   ]
  },
  {
   "cell_type": "code",
   "execution_count": 89,
   "metadata": {},
   "outputs": [],
   "source": [
    "data['tidy_tweet'] = data['tidy_tweet'].apply(lambda x: re.sub(r'\\bco\\b|\\bzw\\b|twitter', '', x))"
   ]
  },
  {
   "cell_type": "code",
   "execution_count": 90,
   "metadata": {},
   "outputs": [
    {
     "data": {
      "text/html": [
       "<div>\n",
       "<style scoped>\n",
       "    .dataframe tbody tr th:only-of-type {\n",
       "        vertical-align: middle;\n",
       "    }\n",
       "\n",
       "    .dataframe tbody tr th {\n",
       "        vertical-align: top;\n",
       "    }\n",
       "\n",
       "    .dataframe thead th {\n",
       "        text-align: right;\n",
       "    }\n",
       "</style>\n",
       "<table border=\"1\" class=\"dataframe\">\n",
       "  <thead>\n",
       "    <tr style=\"text-align: right;\">\n",
       "      <th></th>\n",
       "      <th>likes</th>\n",
       "      <th>replies</th>\n",
       "      <th>retweets</th>\n",
       "      <th>text</th>\n",
       "      <th>user_screen_name</th>\n",
       "      <th>tidy_tweet</th>\n",
       "      <th>tokenized_tweet</th>\n",
       "      <th>MNO_label</th>\n",
       "      <th>lang</th>\n",
       "    </tr>\n",
       "    <tr>\n",
       "      <th>created_at</th>\n",
       "      <th></th>\n",
       "      <th></th>\n",
       "      <th></th>\n",
       "      <th></th>\n",
       "      <th></th>\n",
       "      <th></th>\n",
       "      <th></th>\n",
       "      <th></th>\n",
       "      <th></th>\n",
       "    </tr>\n",
       "  </thead>\n",
       "  <tbody>\n",
       "    <tr>\n",
       "      <th>2019-03-24 21:53:04</th>\n",
       "      <td>2</td>\n",
       "      <td>3</td>\n",
       "      <td>0</td>\n",
       "      <td>Hello @econet_support my yo mix app is not ope...</td>\n",
       "      <td>OsybelSimango</td>\n",
       "      <td>hello  econet support my yo mix app is not ope...</td>\n",
       "      <td>[hello, econet, support, my, yo, mix, app, is,...</td>\n",
       "      <td>e</td>\n",
       "      <td>True</td>\n",
       "    </tr>\n",
       "    <tr>\n",
       "      <th>2019-03-26 00:08:01</th>\n",
       "      <td>55</td>\n",
       "      <td>1</td>\n",
       "      <td>4</td>\n",
       "      <td>Econet needs to stop sending me 4 SEPARATE pro...</td>\n",
       "      <td>TinoNyandoro</td>\n",
       "      <td>econet needs to stop sending me   separate pro...</td>\n",
       "      <td>[econet, needs, to, stop, sending, me, separat...</td>\n",
       "      <td>e</td>\n",
       "      <td>True</td>\n",
       "    </tr>\n",
       "    <tr>\n",
       "      <th>2019-03-26 15:39:48</th>\n",
       "      <td>0</td>\n",
       "      <td>1</td>\n",
       "      <td>0</td>\n",
       "      <td>@econet_support I sent you my query and no res...</td>\n",
       "      <td>moses_chibike</td>\n",
       "      <td>econet support i sent you my query and no res...</td>\n",
       "      <td>[econet, support, i, sent, you, my, query, and...</td>\n",
       "      <td>e</td>\n",
       "      <td>True</td>\n",
       "    </tr>\n",
       "    <tr>\n",
       "      <th>2019-03-26 15:41:48</th>\n",
       "      <td>0</td>\n",
       "      <td>2</td>\n",
       "      <td>1</td>\n",
       "      <td>@econet_support I did ecocash transaction from...</td>\n",
       "      <td>MundawaroPretty</td>\n",
       "      <td>econet support i did ecocash transaction from...</td>\n",
       "      <td>[econet, support, i, did, ecocash, transaction...</td>\n",
       "      <td>e</td>\n",
       "      <td>True</td>\n",
       "    </tr>\n",
       "    <tr>\n",
       "      <th>2019-03-26 13:35:01</th>\n",
       "      <td>0</td>\n",
       "      <td>1</td>\n",
       "      <td>0</td>\n",
       "      <td>@econet_support  hi guys i am trying to withdr...</td>\n",
       "      <td>JohnNyamutata4</td>\n",
       "      <td>econet support  hi guys i am trying to withdr...</td>\n",
       "      <td>[econet, support, hi, guys, i, am, trying, to,...</td>\n",
       "      <td>e</td>\n",
       "      <td>True</td>\n",
       "    </tr>\n",
       "  </tbody>\n",
       "</table>\n",
       "</div>"
      ],
      "text/plain": [
       "                     likes  replies  retweets  \\\n",
       "created_at                                      \n",
       "2019-03-24 21:53:04      2        3         0   \n",
       "2019-03-26 00:08:01     55        1         4   \n",
       "2019-03-26 15:39:48      0        1         0   \n",
       "2019-03-26 15:41:48      0        2         1   \n",
       "2019-03-26 13:35:01      0        1         0   \n",
       "\n",
       "                                                                  text  \\\n",
       "created_at                                                               \n",
       "2019-03-24 21:53:04  Hello @econet_support my yo mix app is not ope...   \n",
       "2019-03-26 00:08:01  Econet needs to stop sending me 4 SEPARATE pro...   \n",
       "2019-03-26 15:39:48  @econet_support I sent you my query and no res...   \n",
       "2019-03-26 15:41:48  @econet_support I did ecocash transaction from...   \n",
       "2019-03-26 13:35:01  @econet_support  hi guys i am trying to withdr...   \n",
       "\n",
       "                    user_screen_name  \\\n",
       "created_at                             \n",
       "2019-03-24 21:53:04    OsybelSimango   \n",
       "2019-03-26 00:08:01     TinoNyandoro   \n",
       "2019-03-26 15:39:48    moses_chibike   \n",
       "2019-03-26 15:41:48  MundawaroPretty   \n",
       "2019-03-26 13:35:01   JohnNyamutata4   \n",
       "\n",
       "                                                            tidy_tweet  \\\n",
       "created_at                                                               \n",
       "2019-03-24 21:53:04  hello  econet support my yo mix app is not ope...   \n",
       "2019-03-26 00:08:01  econet needs to stop sending me   separate pro...   \n",
       "2019-03-26 15:39:48   econet support i sent you my query and no res...   \n",
       "2019-03-26 15:41:48   econet support i did ecocash transaction from...   \n",
       "2019-03-26 13:35:01   econet support  hi guys i am trying to withdr...   \n",
       "\n",
       "                                                       tokenized_tweet  \\\n",
       "created_at                                                               \n",
       "2019-03-24 21:53:04  [hello, econet, support, my, yo, mix, app, is,...   \n",
       "2019-03-26 00:08:01  [econet, needs, to, stop, sending, me, separat...   \n",
       "2019-03-26 15:39:48  [econet, support, i, sent, you, my, query, and...   \n",
       "2019-03-26 15:41:48  [econet, support, i, did, ecocash, transaction...   \n",
       "2019-03-26 13:35:01  [econet, support, hi, guys, i, am, trying, to,...   \n",
       "\n",
       "                    MNO_label  lang  \n",
       "created_at                           \n",
       "2019-03-24 21:53:04         e  True  \n",
       "2019-03-26 00:08:01         e  True  \n",
       "2019-03-26 15:39:48         e  True  \n",
       "2019-03-26 15:41:48         e  True  \n",
       "2019-03-26 13:35:01         e  True  "
      ]
     },
     "execution_count": 90,
     "metadata": {},
     "output_type": "execute_result"
    }
   ],
   "source": [
    "data.head()"
   ]
  },
  {
   "cell_type": "markdown",
   "metadata": {},
   "source": [
    "#### b) Tokenization"
   ]
  },
  {
   "cell_type": "markdown",
   "metadata": {},
   "source": [
    "Now we will tokenize all the cleaned tweets in our dataset. Tokens are individual terms or words, and tokenization is the process of splitting a string of text into tokens."
   ]
  },
  {
   "cell_type": "code",
   "execution_count": 91,
   "metadata": {},
   "outputs": [
    {
     "data": {
      "text/html": [
       "<div>\n",
       "<style scoped>\n",
       "    .dataframe tbody tr th:only-of-type {\n",
       "        vertical-align: middle;\n",
       "    }\n",
       "\n",
       "    .dataframe tbody tr th {\n",
       "        vertical-align: top;\n",
       "    }\n",
       "\n",
       "    .dataframe thead th {\n",
       "        text-align: right;\n",
       "    }\n",
       "</style>\n",
       "<table border=\"1\" class=\"dataframe\">\n",
       "  <thead>\n",
       "    <tr style=\"text-align: right;\">\n",
       "      <th></th>\n",
       "      <th>likes</th>\n",
       "      <th>replies</th>\n",
       "      <th>retweets</th>\n",
       "      <th>text</th>\n",
       "      <th>user_screen_name</th>\n",
       "      <th>tidy_tweet</th>\n",
       "      <th>tokenized_tweet</th>\n",
       "      <th>MNO_label</th>\n",
       "      <th>lang</th>\n",
       "    </tr>\n",
       "    <tr>\n",
       "      <th>created_at</th>\n",
       "      <th></th>\n",
       "      <th></th>\n",
       "      <th></th>\n",
       "      <th></th>\n",
       "      <th></th>\n",
       "      <th></th>\n",
       "      <th></th>\n",
       "      <th></th>\n",
       "      <th></th>\n",
       "    </tr>\n",
       "  </thead>\n",
       "  <tbody>\n",
       "    <tr>\n",
       "      <th>2019-03-24 21:53:04</th>\n",
       "      <td>2</td>\n",
       "      <td>3</td>\n",
       "      <td>0</td>\n",
       "      <td>Hello @econet_support my yo mix app is not ope...</td>\n",
       "      <td>OsybelSimango</td>\n",
       "      <td>hello  econet support my yo mix app is not ope...</td>\n",
       "      <td>[hello, econet, support, my, yo, mix, app, is,...</td>\n",
       "      <td>e</td>\n",
       "      <td>True</td>\n",
       "    </tr>\n",
       "    <tr>\n",
       "      <th>2019-03-26 00:08:01</th>\n",
       "      <td>55</td>\n",
       "      <td>1</td>\n",
       "      <td>4</td>\n",
       "      <td>Econet needs to stop sending me 4 SEPARATE pro...</td>\n",
       "      <td>TinoNyandoro</td>\n",
       "      <td>econet needs to stop sending me   separate pro...</td>\n",
       "      <td>[econet, needs, to, stop, sending, me, separat...</td>\n",
       "      <td>e</td>\n",
       "      <td>True</td>\n",
       "    </tr>\n",
       "    <tr>\n",
       "      <th>2019-03-26 15:39:48</th>\n",
       "      <td>0</td>\n",
       "      <td>1</td>\n",
       "      <td>0</td>\n",
       "      <td>@econet_support I sent you my query and no res...</td>\n",
       "      <td>moses_chibike</td>\n",
       "      <td>econet support i sent you my query and no res...</td>\n",
       "      <td>[econet, support, i, sent, you, my, query, and...</td>\n",
       "      <td>e</td>\n",
       "      <td>True</td>\n",
       "    </tr>\n",
       "    <tr>\n",
       "      <th>2019-03-26 15:41:48</th>\n",
       "      <td>0</td>\n",
       "      <td>2</td>\n",
       "      <td>1</td>\n",
       "      <td>@econet_support I did ecocash transaction from...</td>\n",
       "      <td>MundawaroPretty</td>\n",
       "      <td>econet support i did ecocash transaction from...</td>\n",
       "      <td>[econet, support, i, did, ecocash, transaction...</td>\n",
       "      <td>e</td>\n",
       "      <td>True</td>\n",
       "    </tr>\n",
       "    <tr>\n",
       "      <th>2019-03-26 13:35:01</th>\n",
       "      <td>0</td>\n",
       "      <td>1</td>\n",
       "      <td>0</td>\n",
       "      <td>@econet_support  hi guys i am trying to withdr...</td>\n",
       "      <td>JohnNyamutata4</td>\n",
       "      <td>econet support  hi guys i am trying to withdr...</td>\n",
       "      <td>[econet, support, hi, guys, i, am, trying, to,...</td>\n",
       "      <td>e</td>\n",
       "      <td>True</td>\n",
       "    </tr>\n",
       "  </tbody>\n",
       "</table>\n",
       "</div>"
      ],
      "text/plain": [
       "                     likes  replies  retweets  \\\n",
       "created_at                                      \n",
       "2019-03-24 21:53:04      2        3         0   \n",
       "2019-03-26 00:08:01     55        1         4   \n",
       "2019-03-26 15:39:48      0        1         0   \n",
       "2019-03-26 15:41:48      0        2         1   \n",
       "2019-03-26 13:35:01      0        1         0   \n",
       "\n",
       "                                                                  text  \\\n",
       "created_at                                                               \n",
       "2019-03-24 21:53:04  Hello @econet_support my yo mix app is not ope...   \n",
       "2019-03-26 00:08:01  Econet needs to stop sending me 4 SEPARATE pro...   \n",
       "2019-03-26 15:39:48  @econet_support I sent you my query and no res...   \n",
       "2019-03-26 15:41:48  @econet_support I did ecocash transaction from...   \n",
       "2019-03-26 13:35:01  @econet_support  hi guys i am trying to withdr...   \n",
       "\n",
       "                    user_screen_name  \\\n",
       "created_at                             \n",
       "2019-03-24 21:53:04    OsybelSimango   \n",
       "2019-03-26 00:08:01     TinoNyandoro   \n",
       "2019-03-26 15:39:48    moses_chibike   \n",
       "2019-03-26 15:41:48  MundawaroPretty   \n",
       "2019-03-26 13:35:01   JohnNyamutata4   \n",
       "\n",
       "                                                            tidy_tweet  \\\n",
       "created_at                                                               \n",
       "2019-03-24 21:53:04  hello  econet support my yo mix app is not ope...   \n",
       "2019-03-26 00:08:01  econet needs to stop sending me   separate pro...   \n",
       "2019-03-26 15:39:48   econet support i sent you my query and no res...   \n",
       "2019-03-26 15:41:48   econet support i did ecocash transaction from...   \n",
       "2019-03-26 13:35:01   econet support  hi guys i am trying to withdr...   \n",
       "\n",
       "                                                       tokenized_tweet  \\\n",
       "created_at                                                               \n",
       "2019-03-24 21:53:04  [hello, econet, support, my, yo, mix, app, is,...   \n",
       "2019-03-26 00:08:01  [econet, needs, to, stop, sending, me, separat...   \n",
       "2019-03-26 15:39:48  [econet, support, i, sent, you, my, query, and...   \n",
       "2019-03-26 15:41:48  [econet, support, i, did, ecocash, transaction...   \n",
       "2019-03-26 13:35:01  [econet, support, hi, guys, i, am, trying, to,...   \n",
       "\n",
       "                    MNO_label  lang  \n",
       "created_at                           \n",
       "2019-03-24 21:53:04         e  True  \n",
       "2019-03-26 00:08:01         e  True  \n",
       "2019-03-26 15:39:48         e  True  \n",
       "2019-03-26 15:41:48         e  True  \n",
       "2019-03-26 13:35:01         e  True  "
      ]
     },
     "execution_count": 91,
     "metadata": {},
     "output_type": "execute_result"
    }
   ],
   "source": [
    "data['tokenized_tweet'] = data['tidy_tweet'].apply(lambda x: x.split())\n",
    "data.head()"
   ]
  },
  {
   "cell_type": "markdown",
   "metadata": {},
   "source": [
    "Our tweets are now much cleaner and better to apply a sentiment analysis algorithm on. However, we still don't know which tweets belong to which company. Let's find a way to label the tweets."
   ]
  },
  {
   "cell_type": "markdown",
   "metadata": {},
   "source": [
    " - econet: 'e'\n",
    " - netone: 'n'\n",
    " - telecel 't'\n",
    " \n",
    "If a tweet contains 'econet', 'netone' and\\or 'telecel' within it, we attribute the tweet as a complaint to econet and a threat to switch to another provider."
   ]
  },
  {
   "cell_type": "code",
   "execution_count": 76,
   "metadata": {},
   "outputs": [],
   "source": [
    "def labeller(x):\n",
    "    if 'econet' or 'stewardbank' in x:\n",
    "        return 'e'\n",
    "    elif 'econet' and 'netone' in x:\n",
    "        return 'es'\n",
    "    elif 'econet' and 'telecel' in x:\n",
    "        return 'es'\n",
    "    elif 'netone' and not 'econet' in x:\n",
    "        return 'n'\n",
    "    elif 'telecel' and not 'econet' in x:\n",
    "        return 't'\n",
    "    else:\n",
    "        return 0"
   ]
  },
  {
   "cell_type": "code",
   "execution_count": 77,
   "metadata": {},
   "outputs": [],
   "source": [
    "data[\"MNO_label\"] = data['tokenized_tweet'].apply(labeller)"
   ]
  },
  {
   "cell_type": "code",
   "execution_count": 78,
   "metadata": {},
   "outputs": [
    {
     "data": {
      "text/html": [
       "<div>\n",
       "<style scoped>\n",
       "    .dataframe tbody tr th:only-of-type {\n",
       "        vertical-align: middle;\n",
       "    }\n",
       "\n",
       "    .dataframe tbody tr th {\n",
       "        vertical-align: top;\n",
       "    }\n",
       "\n",
       "    .dataframe thead th {\n",
       "        text-align: right;\n",
       "    }\n",
       "</style>\n",
       "<table border=\"1\" class=\"dataframe\">\n",
       "  <thead>\n",
       "    <tr style=\"text-align: right;\">\n",
       "      <th></th>\n",
       "      <th>likes</th>\n",
       "      <th>replies</th>\n",
       "      <th>retweets</th>\n",
       "      <th>text</th>\n",
       "      <th>user_screen_name</th>\n",
       "      <th>tidy_tweet</th>\n",
       "      <th>tokenized_tweet</th>\n",
       "      <th>MNO_label</th>\n",
       "    </tr>\n",
       "    <tr>\n",
       "      <th>created_at</th>\n",
       "      <th></th>\n",
       "      <th></th>\n",
       "      <th></th>\n",
       "      <th></th>\n",
       "      <th></th>\n",
       "      <th></th>\n",
       "      <th></th>\n",
       "      <th></th>\n",
       "    </tr>\n",
       "  </thead>\n",
       "  <tbody>\n",
       "    <tr>\n",
       "      <th>2019-03-24 21:53:04</th>\n",
       "      <td>2</td>\n",
       "      <td>3</td>\n",
       "      <td>0</td>\n",
       "      <td>Hello @econet_support my yo mix app is not ope...</td>\n",
       "      <td>OsybelSimango</td>\n",
       "      <td>hello  econet support my yo mix app is not ope...</td>\n",
       "      <td>[hello, econet, support, my, yo, mix, app, is,...</td>\n",
       "      <td>e</td>\n",
       "    </tr>\n",
       "    <tr>\n",
       "      <th>2019-03-26 00:08:01</th>\n",
       "      <td>55</td>\n",
       "      <td>1</td>\n",
       "      <td>4</td>\n",
       "      <td>Econet needs to stop sending me 4 SEPARATE pro...</td>\n",
       "      <td>TinoNyandoro</td>\n",
       "      <td>econet needs to stop sending me   separate pro...</td>\n",
       "      <td>[econet, needs, to, stop, sending, me, separat...</td>\n",
       "      <td>e</td>\n",
       "    </tr>\n",
       "    <tr>\n",
       "      <th>2019-03-26 15:39:48</th>\n",
       "      <td>0</td>\n",
       "      <td>1</td>\n",
       "      <td>0</td>\n",
       "      <td>@econet_support I sent you my query and no res...</td>\n",
       "      <td>moses_chibike</td>\n",
       "      <td>econet support i sent you my query and no res...</td>\n",
       "      <td>[econet, support, i, sent, you, my, query, and...</td>\n",
       "      <td>e</td>\n",
       "    </tr>\n",
       "    <tr>\n",
       "      <th>2019-03-26 15:41:48</th>\n",
       "      <td>0</td>\n",
       "      <td>2</td>\n",
       "      <td>1</td>\n",
       "      <td>@econet_support I did ecocash transaction from...</td>\n",
       "      <td>MundawaroPretty</td>\n",
       "      <td>econet support i did ecocash transaction from...</td>\n",
       "      <td>[econet, support, i, did, ecocash, transaction...</td>\n",
       "      <td>e</td>\n",
       "    </tr>\n",
       "    <tr>\n",
       "      <th>2019-03-26 13:35:01</th>\n",
       "      <td>0</td>\n",
       "      <td>1</td>\n",
       "      <td>0</td>\n",
       "      <td>@econet_support  hi guys i am trying to withdr...</td>\n",
       "      <td>JohnNyamutata4</td>\n",
       "      <td>econet support  hi guys i am trying to withdr...</td>\n",
       "      <td>[econet, support, hi, guys, i, am, trying, to,...</td>\n",
       "      <td>e</td>\n",
       "    </tr>\n",
       "  </tbody>\n",
       "</table>\n",
       "</div>"
      ],
      "text/plain": [
       "                     likes  replies  retweets  \\\n",
       "created_at                                      \n",
       "2019-03-24 21:53:04      2        3         0   \n",
       "2019-03-26 00:08:01     55        1         4   \n",
       "2019-03-26 15:39:48      0        1         0   \n",
       "2019-03-26 15:41:48      0        2         1   \n",
       "2019-03-26 13:35:01      0        1         0   \n",
       "\n",
       "                                                                  text  \\\n",
       "created_at                                                               \n",
       "2019-03-24 21:53:04  Hello @econet_support my yo mix app is not ope...   \n",
       "2019-03-26 00:08:01  Econet needs to stop sending me 4 SEPARATE pro...   \n",
       "2019-03-26 15:39:48  @econet_support I sent you my query and no res...   \n",
       "2019-03-26 15:41:48  @econet_support I did ecocash transaction from...   \n",
       "2019-03-26 13:35:01  @econet_support  hi guys i am trying to withdr...   \n",
       "\n",
       "                    user_screen_name  \\\n",
       "created_at                             \n",
       "2019-03-24 21:53:04    OsybelSimango   \n",
       "2019-03-26 00:08:01     TinoNyandoro   \n",
       "2019-03-26 15:39:48    moses_chibike   \n",
       "2019-03-26 15:41:48  MundawaroPretty   \n",
       "2019-03-26 13:35:01   JohnNyamutata4   \n",
       "\n",
       "                                                            tidy_tweet  \\\n",
       "created_at                                                               \n",
       "2019-03-24 21:53:04  hello  econet support my yo mix app is not ope...   \n",
       "2019-03-26 00:08:01  econet needs to stop sending me   separate pro...   \n",
       "2019-03-26 15:39:48   econet support i sent you my query and no res...   \n",
       "2019-03-26 15:41:48   econet support i did ecocash transaction from...   \n",
       "2019-03-26 13:35:01   econet support  hi guys i am trying to withdr...   \n",
       "\n",
       "                                                       tokenized_tweet  \\\n",
       "created_at                                                               \n",
       "2019-03-24 21:53:04  [hello, econet, support, my, yo, mix, app, is,...   \n",
       "2019-03-26 00:08:01  [econet, needs, to, stop, sending, me, separat...   \n",
       "2019-03-26 15:39:48  [econet, support, i, sent, you, my, query, and...   \n",
       "2019-03-26 15:41:48  [econet, support, i, did, ecocash, transaction...   \n",
       "2019-03-26 13:35:01  [econet, support, hi, guys, i, am, trying, to,...   \n",
       "\n",
       "                    MNO_label  \n",
       "created_at                     \n",
       "2019-03-24 21:53:04         e  \n",
       "2019-03-26 00:08:01         e  \n",
       "2019-03-26 15:39:48         e  \n",
       "2019-03-26 15:41:48         e  \n",
       "2019-03-26 13:35:01         e  "
      ]
     },
     "execution_count": 78,
     "metadata": {},
     "output_type": "execute_result"
    }
   ],
   "source": [
    "data.head()"
   ]
  },
  {
   "cell_type": "markdown",
   "metadata": {},
   "source": [
    "#### c) Language Checking"
   ]
  },
  {
   "cell_type": "markdown",
   "metadata": {},
   "source": [
    "We;re almost done with cleaning our text. However, we are aware that our tweets contain english, shona and'or ndebele. Although, the sentiment analyzer we're going to use skips over non-english words and looks for sentiment in the available english ones, this might not be accurate enough. Since there are no translators good enough to convert shona\\ndebele to english at the moment, we might need to drop the rows which have too much vernecular. Let's build a function that does this for us."
   ]
  },
  {
   "cell_type": "code",
   "execution_count": 79,
   "metadata": {},
   "outputs": [],
   "source": [
    "import enchant"
   ]
  },
  {
   "cell_type": "code",
   "execution_count": 80,
   "metadata": {},
   "outputs": [],
   "source": [
    "def lang_checker(x):\n",
    "    d = enchant.Dict(\"en_US\")\n",
    "    en_count=0\n",
    "    sn_count=0\n",
    "    for i in x:\n",
    "        if d.check(i) is True:\n",
    "            en_count+=1\n",
    "        else:\n",
    "            sn_count+=1\n",
    "    if en_count>=sn_count:\n",
    "        return True\n",
    "    else:\n",
    "        return False"
   ]
  },
  {
   "cell_type": "code",
   "execution_count": 92,
   "metadata": {},
   "outputs": [],
   "source": [
    "data['lang'] = data['tokenized_tweet'].apply(lang_checker)"
   ]
  },
  {
   "cell_type": "code",
   "execution_count": 93,
   "metadata": {},
   "outputs": [
    {
     "data": {
      "text/html": [
       "<div>\n",
       "<style scoped>\n",
       "    .dataframe tbody tr th:only-of-type {\n",
       "        vertical-align: middle;\n",
       "    }\n",
       "\n",
       "    .dataframe tbody tr th {\n",
       "        vertical-align: top;\n",
       "    }\n",
       "\n",
       "    .dataframe thead th {\n",
       "        text-align: right;\n",
       "    }\n",
       "</style>\n",
       "<table border=\"1\" class=\"dataframe\">\n",
       "  <thead>\n",
       "    <tr style=\"text-align: right;\">\n",
       "      <th></th>\n",
       "      <th>likes</th>\n",
       "      <th>replies</th>\n",
       "      <th>retweets</th>\n",
       "      <th>text</th>\n",
       "      <th>user_screen_name</th>\n",
       "      <th>tidy_tweet</th>\n",
       "      <th>tokenized_tweet</th>\n",
       "      <th>MNO_label</th>\n",
       "      <th>lang</th>\n",
       "    </tr>\n",
       "    <tr>\n",
       "      <th>created_at</th>\n",
       "      <th></th>\n",
       "      <th></th>\n",
       "      <th></th>\n",
       "      <th></th>\n",
       "      <th></th>\n",
       "      <th></th>\n",
       "      <th></th>\n",
       "      <th></th>\n",
       "      <th></th>\n",
       "    </tr>\n",
       "  </thead>\n",
       "  <tbody>\n",
       "    <tr>\n",
       "      <th>2019-03-24 21:53:04</th>\n",
       "      <td>2</td>\n",
       "      <td>3</td>\n",
       "      <td>0</td>\n",
       "      <td>Hello @econet_support my yo mix app is not ope...</td>\n",
       "      <td>OsybelSimango</td>\n",
       "      <td>hello  econet support my yo mix app is not ope...</td>\n",
       "      <td>[hello, econet, support, my, yo, mix, app, is,...</td>\n",
       "      <td>e</td>\n",
       "      <td>True</td>\n",
       "    </tr>\n",
       "    <tr>\n",
       "      <th>2019-03-26 00:08:01</th>\n",
       "      <td>55</td>\n",
       "      <td>1</td>\n",
       "      <td>4</td>\n",
       "      <td>Econet needs to stop sending me 4 SEPARATE pro...</td>\n",
       "      <td>TinoNyandoro</td>\n",
       "      <td>econet needs to stop sending me   separate pro...</td>\n",
       "      <td>[econet, needs, to, stop, sending, me, separat...</td>\n",
       "      <td>e</td>\n",
       "      <td>True</td>\n",
       "    </tr>\n",
       "    <tr>\n",
       "      <th>2019-03-26 15:39:48</th>\n",
       "      <td>0</td>\n",
       "      <td>1</td>\n",
       "      <td>0</td>\n",
       "      <td>@econet_support I sent you my query and no res...</td>\n",
       "      <td>moses_chibike</td>\n",
       "      <td>econet support i sent you my query and no res...</td>\n",
       "      <td>[econet, support, i, sent, you, my, query, and...</td>\n",
       "      <td>e</td>\n",
       "      <td>True</td>\n",
       "    </tr>\n",
       "    <tr>\n",
       "      <th>2019-03-26 15:41:48</th>\n",
       "      <td>0</td>\n",
       "      <td>2</td>\n",
       "      <td>1</td>\n",
       "      <td>@econet_support I did ecocash transaction from...</td>\n",
       "      <td>MundawaroPretty</td>\n",
       "      <td>econet support i did ecocash transaction from...</td>\n",
       "      <td>[econet, support, i, did, ecocash, transaction...</td>\n",
       "      <td>e</td>\n",
       "      <td>True</td>\n",
       "    </tr>\n",
       "    <tr>\n",
       "      <th>2019-03-26 13:35:01</th>\n",
       "      <td>0</td>\n",
       "      <td>1</td>\n",
       "      <td>0</td>\n",
       "      <td>@econet_support  hi guys i am trying to withdr...</td>\n",
       "      <td>JohnNyamutata4</td>\n",
       "      <td>econet support  hi guys i am trying to withdr...</td>\n",
       "      <td>[econet, support, hi, guys, i, am, trying, to,...</td>\n",
       "      <td>e</td>\n",
       "      <td>True</td>\n",
       "    </tr>\n",
       "  </tbody>\n",
       "</table>\n",
       "</div>"
      ],
      "text/plain": [
       "                     likes  replies  retweets  \\\n",
       "created_at                                      \n",
       "2019-03-24 21:53:04      2        3         0   \n",
       "2019-03-26 00:08:01     55        1         4   \n",
       "2019-03-26 15:39:48      0        1         0   \n",
       "2019-03-26 15:41:48      0        2         1   \n",
       "2019-03-26 13:35:01      0        1         0   \n",
       "\n",
       "                                                                  text  \\\n",
       "created_at                                                               \n",
       "2019-03-24 21:53:04  Hello @econet_support my yo mix app is not ope...   \n",
       "2019-03-26 00:08:01  Econet needs to stop sending me 4 SEPARATE pro...   \n",
       "2019-03-26 15:39:48  @econet_support I sent you my query and no res...   \n",
       "2019-03-26 15:41:48  @econet_support I did ecocash transaction from...   \n",
       "2019-03-26 13:35:01  @econet_support  hi guys i am trying to withdr...   \n",
       "\n",
       "                    user_screen_name  \\\n",
       "created_at                             \n",
       "2019-03-24 21:53:04    OsybelSimango   \n",
       "2019-03-26 00:08:01     TinoNyandoro   \n",
       "2019-03-26 15:39:48    moses_chibike   \n",
       "2019-03-26 15:41:48  MundawaroPretty   \n",
       "2019-03-26 13:35:01   JohnNyamutata4   \n",
       "\n",
       "                                                            tidy_tweet  \\\n",
       "created_at                                                               \n",
       "2019-03-24 21:53:04  hello  econet support my yo mix app is not ope...   \n",
       "2019-03-26 00:08:01  econet needs to stop sending me   separate pro...   \n",
       "2019-03-26 15:39:48   econet support i sent you my query and no res...   \n",
       "2019-03-26 15:41:48   econet support i did ecocash transaction from...   \n",
       "2019-03-26 13:35:01   econet support  hi guys i am trying to withdr...   \n",
       "\n",
       "                                                       tokenized_tweet  \\\n",
       "created_at                                                               \n",
       "2019-03-24 21:53:04  [hello, econet, support, my, yo, mix, app, is,...   \n",
       "2019-03-26 00:08:01  [econet, needs, to, stop, sending, me, separat...   \n",
       "2019-03-26 15:39:48  [econet, support, i, sent, you, my, query, and...   \n",
       "2019-03-26 15:41:48  [econet, support, i, did, ecocash, transaction...   \n",
       "2019-03-26 13:35:01  [econet, support, hi, guys, i, am, trying, to,...   \n",
       "\n",
       "                    MNO_label  lang  \n",
       "created_at                           \n",
       "2019-03-24 21:53:04         e  True  \n",
       "2019-03-26 00:08:01         e  True  \n",
       "2019-03-26 15:39:48         e  True  \n",
       "2019-03-26 15:41:48         e  True  \n",
       "2019-03-26 13:35:01         e  True  "
      ]
     },
     "execution_count": 93,
     "metadata": {},
     "output_type": "execute_result"
    }
   ],
   "source": [
    "data.head()"
   ]
  },
  {
   "cell_type": "code",
   "execution_count": 83,
   "metadata": {},
   "outputs": [
    {
     "data": {
      "text/plain": [
       "'There are 3571 majority english tweets and 369 majority non-english tweets.'"
      ]
     },
     "execution_count": 83,
     "metadata": {},
     "output_type": "execute_result"
    }
   ],
   "source": [
    "\"There are {} majority english tweets and {} majority non-english tweets.\".format(data[data['lang']==True].shape[0], data[data['lang']==False].shape[0])"
   ]
  },
  {
   "cell_type": "markdown",
   "metadata": {},
   "source": [
    "We've got 413 non-english tweets in our data still. To avoid false positives when we carry out our sentiment analysis, let's drop them."
   ]
  },
  {
   "cell_type": "code",
   "execution_count": 84,
   "metadata": {},
   "outputs": [],
   "source": [
    "data = data[data['lang']==True]"
   ]
  },
  {
   "cell_type": "code",
   "execution_count": 94,
   "metadata": {},
   "outputs": [
    {
     "data": {
      "text/plain": [
       "3571"
      ]
     },
     "execution_count": 94,
     "metadata": {},
     "output_type": "execute_result"
    }
   ],
   "source": [
    "data.shape[0]"
   ]
  },
  {
   "cell_type": "markdown",
   "metadata": {},
   "source": [
    "We can now say with some confidence our data has english tweets in it."
   ]
  },
  {
   "cell_type": "markdown",
   "metadata": {},
   "source": [
    "#### d) Understanding the common words used in the tweets: WordCloud"
   ]
  },
  {
   "cell_type": "markdown",
   "metadata": {},
   "source": [
    "Let's visualize our most common words so that we can have an idea of which words occur the most in our tweets. We can proceed to clean out some of these words or even delete entire tweets we deem unnecessary to our analysis. One way to do this is to use a wordcloud.\n",
    "\n",
    "A wordcloud is a visualization wherein the most frequent words appear in large size and the less frequent words appear in smaller sizes.\n",
    "\n",
    "Let’s visualize all the words our data using the wordcloud plot."
   ]
  },
  {
   "cell_type": "code",
   "execution_count": 95,
   "metadata": {},
   "outputs": [
    {
     "data": {
      "image/png": "[encoded data removed]",
      "text/plain": [
       "<Figure size 720x504 with 1 Axes>"
      ]
     },
     "metadata": {},
     "output_type": "display_data"
    }
   ],
   "source": [
    "all_words = ' '.join([text for text in data['tidy_tweet']])\n",
    "from wordcloud import WordCloud\n",
    "wordcloud = WordCloud(width=800, height=500, random_state=21, max_font_size=110).generate(all_words)\n",
    "\n",
    "plt.figure(figsize=(10, 7))\n",
    "plt.imshow(wordcloud, interpolation=\"bilinear\")\n",
    "plt.axis('off')\n",
    "plt.show()"
   ]
  },
  {
   "cell_type": "markdown",
   "metadata": {},
   "source": [
    "We can see from our wordcloud that econet is overwhelmigly in the lead when it comes to word count. However, there are other variations of econet like 'econetzimbabwe' and 'econet support'. Let's delete their suffixes so that we remain with one instance of econet. We can also delete extensions to words like telecel, netone, etc."
   ]
  },
  {
   "cell_type": "code",
   "execution_count": 96,
   "metadata": {},
   "outputs": [],
   "source": [
    "data['tidy_tweet'] = data['tidy_tweet'].apply(lambda x: re.sub(r'zimbabwe|\\bwireless\\b|\\brt\\b|\\bmb\\b|\\bre\\b|bank|\\bzim\\b|cellular|media|bundle|\\bshop\\b|\\bgo\\b', '', x))"
   ]
  },
  {
   "cell_type": "code",
   "execution_count": 97,
   "metadata": {},
   "outputs": [
    {
     "data": {
      "image/png": "[encoded data removed]",
      "text/plain": [
       "<Figure size 720x504 with 1 Axes>"
      ]
     },
     "metadata": {},
     "output_type": "display_data"
    }
   ],
   "source": [
    "all_words = ' '.join([text for text in data['tidy_tweet']])\n",
    "wordcloud = WordCloud(width=800, height=500, random_state=21, max_font_size=110).generate(all_words)\n",
    "\n",
    "plt.figure(figsize=(10, 7))\n",
    "plt.imshow(wordcloud, interpolation=\"bilinear\")\n",
    "plt.axis('off')\n",
    "plt.show()"
   ]
  },
  {
   "cell_type": "markdown",
   "metadata": {},
   "source": [
    "Econet founder Strive Masiyiwa seems to have significant mentions in our dataset. Though it may happen that customers may direct their disgruntlement to a bussiness's owner, I doubt this is the case here. Let's investigate the tweets that do contain the pattern 'strive'."
   ]
  },
  {
   "cell_type": "code",
   "execution_count": 442,
   "metadata": {},
   "outputs": [
    {
     "name": "stdout",
     "output_type": "stream",
     "text": [
      "165\n"
     ]
    },
    {
     "data": {
      "text/html": [
       "<div>\n",
       "<style scoped>\n",
       "    .dataframe tbody tr th:only-of-type {\n",
       "        vertical-align: middle;\n",
       "    }\n",
       "\n",
       "    .dataframe tbody tr th {\n",
       "        vertical-align: top;\n",
       "    }\n",
       "\n",
       "    .dataframe thead th {\n",
       "        text-align: right;\n",
       "    }\n",
       "</style>\n",
       "<table border=\"1\" class=\"dataframe\">\n",
       "  <thead>\n",
       "    <tr style=\"text-align: right;\">\n",
       "      <th></th>\n",
       "      <th>likes</th>\n",
       "      <th>replies</th>\n",
       "      <th>retweets</th>\n",
       "      <th>text</th>\n",
       "      <th>user_screen_name</th>\n",
       "      <th>tidy_tweet</th>\n",
       "      <th>tokenized_tweet</th>\n",
       "      <th>MNO_label</th>\n",
       "      <th>lang</th>\n",
       "    </tr>\n",
       "    <tr>\n",
       "      <th>created_at</th>\n",
       "      <th></th>\n",
       "      <th></th>\n",
       "      <th></th>\n",
       "      <th></th>\n",
       "      <th></th>\n",
       "      <th></th>\n",
       "      <th></th>\n",
       "      <th></th>\n",
       "      <th></th>\n",
       "    </tr>\n",
       "  </thead>\n",
       "  <tbody>\n",
       "    <tr>\n",
       "      <th>2019-03-26 08:35:45</th>\n",
       "      <td>0</td>\n",
       "      <td>1</td>\n",
       "      <td>0</td>\n",
       "      <td>Strive Masiyiwa and Econet are now going to th...</td>\n",
       "      <td>Gambakwe</td>\n",
       "      <td>strive masiyiwa and econet are now going to th...</td>\n",
       "      <td>[strive, masiyiwa, and, econet, are, now, goin...</td>\n",
       "      <td>e</td>\n",
       "      <td>True</td>\n",
       "    </tr>\n",
       "    <tr>\n",
       "      <th>2019-03-20 19:00:18</th>\n",
       "      <td>5</td>\n",
       "      <td>1</td>\n",
       "      <td>5</td>\n",
       "      <td>The thing is, people are brands too!!!\\nComing...</td>\n",
       "      <td>HoodNiggaz263</td>\n",
       "      <td>the thing is  people are brands too    coming ...</td>\n",
       "      <td>[the, thing, is, people, are, brands, too, com...</td>\n",
       "      <td>e</td>\n",
       "      <td>True</td>\n",
       "    </tr>\n",
       "    <tr>\n",
       "      <th>2019-03-19 13:05:15</th>\n",
       "      <td>252</td>\n",
       "      <td>9</td>\n",
       "      <td>51</td>\n",
       "      <td>#IfIMeet Strive Masiyiwa i would tell him  the...</td>\n",
       "      <td>NyoniTinotenda</td>\n",
       "      <td>#ifimeet strive masiyiwa i would tell him  the...</td>\n",
       "      <td>[#ifimeet, strive, masiyiwa, i, would, tell, h...</td>\n",
       "      <td>e</td>\n",
       "      <td>True</td>\n",
       "    </tr>\n",
       "    <tr>\n",
       "      <th>2019-03-19 15:50:05</th>\n",
       "      <td>13</td>\n",
       "      <td>2</td>\n",
       "      <td>2</td>\n",
       "      <td>Strive Masiyiwa: I almost bought Safaricom whe...</td>\n",
       "      <td>povozim</td>\n",
       "      <td>strive masiyiwa  i almost bought safaricom whe...</td>\n",
       "      <td>[strive, masiyiwa, i, almost, bought, safarico...</td>\n",
       "      <td>e</td>\n",
       "      <td>True</td>\n",
       "    </tr>\n",
       "    <tr>\n",
       "      <th>2019-03-14 08:11:51</th>\n",
       "      <td>61</td>\n",
       "      <td>1</td>\n",
       "      <td>24</td>\n",
       "      <td>At the recently concluded #AfricaNow19 summit,...</td>\n",
       "      <td>spekeresort</td>\n",
       "      <td>at the recently concluded #africanow   summit ...</td>\n",
       "      <td>[at, the, recently, concluded, #africanow, sum...</td>\n",
       "      <td>e</td>\n",
       "      <td>True</td>\n",
       "    </tr>\n",
       "  </tbody>\n",
       "</table>\n",
       "</div>"
      ],
      "text/plain": [
       "                     likes  replies  retweets  \\\n",
       "created_at                                      \n",
       "2019-03-26 08:35:45      0        1         0   \n",
       "2019-03-20 19:00:18      5        1         5   \n",
       "2019-03-19 13:05:15    252        9        51   \n",
       "2019-03-19 15:50:05     13        2         2   \n",
       "2019-03-14 08:11:51     61        1        24   \n",
       "\n",
       "                                                                  text  \\\n",
       "created_at                                                               \n",
       "2019-03-26 08:35:45  Strive Masiyiwa and Econet are now going to th...   \n",
       "2019-03-20 19:00:18  The thing is, people are brands too!!!\\nComing...   \n",
       "2019-03-19 13:05:15  #IfIMeet Strive Masiyiwa i would tell him  the...   \n",
       "2019-03-19 15:50:05  Strive Masiyiwa: I almost bought Safaricom whe...   \n",
       "2019-03-14 08:11:51  At the recently concluded #AfricaNow19 summit,...   \n",
       "\n",
       "                    user_screen_name  \\\n",
       "created_at                             \n",
       "2019-03-26 08:35:45         Gambakwe   \n",
       "2019-03-20 19:00:18    HoodNiggaz263   \n",
       "2019-03-19 13:05:15   NyoniTinotenda   \n",
       "2019-03-19 15:50:05          povozim   \n",
       "2019-03-14 08:11:51      spekeresort   \n",
       "\n",
       "                                                            tidy_tweet  \\\n",
       "created_at                                                               \n",
       "2019-03-26 08:35:45  strive masiyiwa and econet are now going to th...   \n",
       "2019-03-20 19:00:18  the thing is  people are brands too    coming ...   \n",
       "2019-03-19 13:05:15  #ifimeet strive masiyiwa i would tell him  the...   \n",
       "2019-03-19 15:50:05  strive masiyiwa  i almost bought safaricom whe...   \n",
       "2019-03-14 08:11:51  at the recently concluded #africanow   summit ...   \n",
       "\n",
       "                                                       tokenized_tweet  \\\n",
       "created_at                                                               \n",
       "2019-03-26 08:35:45  [strive, masiyiwa, and, econet, are, now, goin...   \n",
       "2019-03-20 19:00:18  [the, thing, is, people, are, brands, too, com...   \n",
       "2019-03-19 13:05:15  [#ifimeet, strive, masiyiwa, i, would, tell, h...   \n",
       "2019-03-19 15:50:05  [strive, masiyiwa, i, almost, bought, safarico...   \n",
       "2019-03-14 08:11:51  [at, the, recently, concluded, #africanow, sum...   \n",
       "\n",
       "                    MNO_label  lang  \n",
       "created_at                           \n",
       "2019-03-26 08:35:45         e  True  \n",
       "2019-03-20 19:00:18         e  True  \n",
       "2019-03-19 13:05:15         e  True  \n",
       "2019-03-19 15:50:05         e  True  \n",
       "2019-03-14 08:11:51         e  True  "
      ]
     },
     "execution_count": 442,
     "metadata": {},
     "output_type": "execute_result"
    }
   ],
   "source": [
    "print(data[data['tidy_tweet'].str.contains('strive', regex=True)].shape[0])\n",
    "data[data['tidy_tweet'].str.contains('strive', regex=True)].head()"
   ]
  },
  {
   "cell_type": "markdown",
   "metadata": {},
   "source": [
    "There are 165 rows that mention the Econet founder. After going through them, it's clear that an overwhelming majority of them are mostly about his various business enterprises and philanthropy rather than customer engagement. With this knowledge, it's safe to remove these rows from the dataset."
   ]
  },
  {
   "cell_type": "code",
   "execution_count": 450,
   "metadata": {},
   "outputs": [
    {
     "data": {
      "text/plain": [
       "(165, 9)"
      ]
     },
     "execution_count": 450,
     "metadata": {},
     "output_type": "execute_result"
    }
   ],
   "source": [
    "data.shape"
   ]
  },
  {
   "cell_type": "markdown",
   "metadata": {},
   "source": [
    "N"
   ]
  },
  {
   "cell_type": "markdown",
   "metadata": {},
   "source": [
    "We've cleaned our dataset for invalid rows and we've just finished cleaning up our text. We now need to identify which of our tweets have negative sentiments so that we can attribute them to a complaint or enquiry to the companies we've under investigation.\n",
    "\n",
    "To classify our tweets, we're going to use the nltk classifier model from 'https://text-processing.com'. Our data has no labels, therefore, we cannot train it to predict sentiment values. *We could but it would require a lot more effort. There's an easier way.* We will use the API from the aforementioned site on our tweets. Having tested it, I am confident it wil produce good results."
   ]
  },
  {
   "cell_type": "code",
   "execution_count": 383,
   "metadata": {},
   "outputs": [],
   "source": [
    "import requests\n",
    "import json"
   ]
  },
  {
   "cell_type": "code",
   "execution_count": 384,
   "metadata": {},
   "outputs": [],
   "source": [
    "def sentiment_checker(x):\n",
    "    data = 'text={}'.format(x)\n",
    "    url = 'http://text-processing.com/api/sentiment/'\n",
    "    r = requests.post(url, data=data)\n",
    "    d = json.loads(r.text)\n",
    "    return d['label']"
   ]
  },
  {
   "cell_type": "code",
   "execution_count": 392,
   "metadata": {},
   "outputs": [
    {
     "data": {
      "text/plain": [
       "'neg'"
      ]
     },
     "execution_count": 392,
     "metadata": {},
     "output_type": "execute_result"
    }
   ],
   "source": [
    "#data['sentiment'] = data['tidy_tweet'].apply(sentiment_checker)\n",
    "#sentiment_checker(data.iloc[0]['tidy_tweet'])"
   ]
  },
  {
   "cell_type": "code",
   "execution_count": 393,
   "metadata": {},
   "outputs": [],
   "source": [
    "tidy_tweet_list = list(data['tidy_tweet'])"
   ]
  },
  {
   "cell_type": "code",
   "execution_count": 400,
   "metadata": {},
   "outputs": [],
   "source": [
    "import time\n",
    "from textblob import TextBlob"
   ]
  },
  {
   "cell_type": "code",
   "execution_count": 402,
   "metadata": {},
   "outputs": [],
   "source": [
    "sentiment = []\n",
    "#for i in tidy_tweet_list:\n",
    "#    time.sleep(2)\n",
    "#    a = sentiment_checker(i)\n",
    "#    sentiment.append(a)\n",
    "\n",
    "for tweet in tidy_tweet_list:\n",
    "    a = ''\n",
    "    analysis = TextBlob(tweet)\n",
    "    if analysis.sentiment[0]>0:\n",
    "        a = 'pos'\n",
    "    elif analysis.sentiment[0]<0:\n",
    "        a = 'neg'\n",
    "    else:\n",
    "        a = 'neutral'\n",
    "    sentiment.append(a)"
   ]
  },
  {
   "cell_type": "code",
   "execution_count": 403,
   "metadata": {},
   "outputs": [
    {
     "data": {
      "text/plain": [
       "['neutral', 'neutral', 'neutral', 'neutral', 'pos']"
      ]
     },
     "execution_count": 403,
     "metadata": {},
     "output_type": "execute_result"
    }
   ],
   "source": [
    "sentiment[0:5]"
   ]
  },
  {
   "cell_type": "code",
   "execution_count": 386,
   "metadata": {},
   "outputs": [
    {
     "data": {
      "text/html": [
       "<div>\n",
       "<style scoped>\n",
       "    .dataframe tbody tr th:only-of-type {\n",
       "        vertical-align: middle;\n",
       "    }\n",
       "\n",
       "    .dataframe tbody tr th {\n",
       "        vertical-align: top;\n",
       "    }\n",
       "\n",
       "    .dataframe thead th {\n",
       "        text-align: right;\n",
       "    }\n",
       "</style>\n",
       "<table border=\"1\" class=\"dataframe\">\n",
       "  <thead>\n",
       "    <tr style=\"text-align: right;\">\n",
       "      <th></th>\n",
       "      <th>likes</th>\n",
       "      <th>replies</th>\n",
       "      <th>retweets</th>\n",
       "      <th>text</th>\n",
       "      <th>user_screen_name</th>\n",
       "      <th>tidy_tweet</th>\n",
       "      <th>tokenized_tweet</th>\n",
       "      <th>MNO_label</th>\n",
       "      <th>lang</th>\n",
       "    </tr>\n",
       "    <tr>\n",
       "      <th>created_at</th>\n",
       "      <th></th>\n",
       "      <th></th>\n",
       "      <th></th>\n",
       "      <th></th>\n",
       "      <th></th>\n",
       "      <th></th>\n",
       "      <th></th>\n",
       "      <th></th>\n",
       "      <th></th>\n",
       "    </tr>\n",
       "  </thead>\n",
       "  <tbody>\n",
       "    <tr>\n",
       "      <th>2019-03-24 21:53:04</th>\n",
       "      <td>2</td>\n",
       "      <td>3</td>\n",
       "      <td>0</td>\n",
       "      <td>Hello @econet_support my yo mix app is not ope...</td>\n",
       "      <td>OsybelSimango</td>\n",
       "      <td>hello  econet support my yo mix app is not ope...</td>\n",
       "      <td>[hello, econet, support, my, yo, mix, app, is,...</td>\n",
       "      <td>e</td>\n",
       "      <td>True</td>\n",
       "    </tr>\n",
       "    <tr>\n",
       "      <th>2019-03-26 00:08:01</th>\n",
       "      <td>55</td>\n",
       "      <td>1</td>\n",
       "      <td>4</td>\n",
       "      <td>Econet needs to stop sending me 4 SEPARATE pro...</td>\n",
       "      <td>TinoNyandoro</td>\n",
       "      <td>econet needs to stop sending me   separate pro...</td>\n",
       "      <td>[econet, needs, to, stop, sending, me, separat...</td>\n",
       "      <td>e</td>\n",
       "      <td>True</td>\n",
       "    </tr>\n",
       "    <tr>\n",
       "      <th>2019-03-26 15:39:48</th>\n",
       "      <td>0</td>\n",
       "      <td>1</td>\n",
       "      <td>0</td>\n",
       "      <td>@econet_support I sent you my query and no res...</td>\n",
       "      <td>moses_chibike</td>\n",
       "      <td>econet support i sent you my query and no res...</td>\n",
       "      <td>[econet, support, i, sent, you, my, query, and...</td>\n",
       "      <td>e</td>\n",
       "      <td>True</td>\n",
       "    </tr>\n",
       "    <tr>\n",
       "      <th>2019-03-26 15:41:48</th>\n",
       "      <td>0</td>\n",
       "      <td>2</td>\n",
       "      <td>1</td>\n",
       "      <td>@econet_support I did ecocash transaction from...</td>\n",
       "      <td>MundawaroPretty</td>\n",
       "      <td>econet support i did ecocash transaction from...</td>\n",
       "      <td>[econet, support, i, did, ecocash, transaction...</td>\n",
       "      <td>e</td>\n",
       "      <td>True</td>\n",
       "    </tr>\n",
       "    <tr>\n",
       "      <th>2019-03-26 13:35:01</th>\n",
       "      <td>0</td>\n",
       "      <td>1</td>\n",
       "      <td>0</td>\n",
       "      <td>@econet_support  hi guys i am trying to withdr...</td>\n",
       "      <td>JohnNyamutata4</td>\n",
       "      <td>econet support  hi guys i am trying to withdr...</td>\n",
       "      <td>[econet, support, hi, guys, i, am, trying, to,...</td>\n",
       "      <td>e</td>\n",
       "      <td>True</td>\n",
       "    </tr>\n",
       "  </tbody>\n",
       "</table>\n",
       "</div>"
      ],
      "text/plain": [
       "                     likes  replies  retweets  \\\n",
       "created_at                                      \n",
       "2019-03-24 21:53:04      2        3         0   \n",
       "2019-03-26 00:08:01     55        1         4   \n",
       "2019-03-26 15:39:48      0        1         0   \n",
       "2019-03-26 15:41:48      0        2         1   \n",
       "2019-03-26 13:35:01      0        1         0   \n",
       "\n",
       "                                                                  text  \\\n",
       "created_at                                                               \n",
       "2019-03-24 21:53:04  Hello @econet_support my yo mix app is not ope...   \n",
       "2019-03-26 00:08:01  Econet needs to stop sending me 4 SEPARATE pro...   \n",
       "2019-03-26 15:39:48  @econet_support I sent you my query and no res...   \n",
       "2019-03-26 15:41:48  @econet_support I did ecocash transaction from...   \n",
       "2019-03-26 13:35:01  @econet_support  hi guys i am trying to withdr...   \n",
       "\n",
       "                    user_screen_name  \\\n",
       "created_at                             \n",
       "2019-03-24 21:53:04    OsybelSimango   \n",
       "2019-03-26 00:08:01     TinoNyandoro   \n",
       "2019-03-26 15:39:48    moses_chibike   \n",
       "2019-03-26 15:41:48  MundawaroPretty   \n",
       "2019-03-26 13:35:01   JohnNyamutata4   \n",
       "\n",
       "                                                            tidy_tweet  \\\n",
       "created_at                                                               \n",
       "2019-03-24 21:53:04  hello  econet support my yo mix app is not ope...   \n",
       "2019-03-26 00:08:01  econet needs to stop sending me   separate pro...   \n",
       "2019-03-26 15:39:48   econet support i sent you my query and no res...   \n",
       "2019-03-26 15:41:48   econet support i did ecocash transaction from...   \n",
       "2019-03-26 13:35:01   econet support  hi guys i am trying to withdr...   \n",
       "\n",
       "                                                       tokenized_tweet  \\\n",
       "created_at                                                               \n",
       "2019-03-24 21:53:04  [hello, econet, support, my, yo, mix, app, is,...   \n",
       "2019-03-26 00:08:01  [econet, needs, to, stop, sending, me, separat...   \n",
       "2019-03-26 15:39:48  [econet, support, i, sent, you, my, query, and...   \n",
       "2019-03-26 15:41:48  [econet, support, i, did, ecocash, transaction...   \n",
       "2019-03-26 13:35:01  [econet, support, hi, guys, i, am, trying, to,...   \n",
       "\n",
       "                    MNO_label  lang  \n",
       "created_at                           \n",
       "2019-03-24 21:53:04         e  True  \n",
       "2019-03-26 00:08:01         e  True  \n",
       "2019-03-26 15:39:48         e  True  \n",
       "2019-03-26 15:41:48         e  True  \n",
       "2019-03-26 13:35:01         e  True  "
      ]
     },
     "execution_count": 386,
     "metadata": {},
     "output_type": "execute_result"
    }
   ],
   "source": [
    "data.head()"
   ]
  },
  {
   "cell_type": "code",
   "execution_count": null,
   "metadata": {},
   "outputs": [],
   "source": []
  }
 ],
 "metadata": {
  "kernelspec": {
   "display_name": "Python 3",
   "language": "python",
   "name": "python3"
  },
  "language_info": {
   "codemirror_mode": {
    "name": "ipython",
    "version": 3
   },
   "file_extension": ".py",
   "mimetype": "text/x-python",
   "name": "python",
   "nbconvert_exporter": "python",
   "pygments_lexer": "ipython3",
   "version": "3.6.7"
  }
 },
 "nbformat": 4,
 "nbformat_minor": 2
}
